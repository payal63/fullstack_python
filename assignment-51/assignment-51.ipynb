{
 "cells": [
  {
   "cell_type": "code",
   "execution_count": 1,
   "id": "477c0eb7-0155-49b7-a964-d6787aa20f32",
   "metadata": {},
   "outputs": [],
   "source": [
    "import pandas as pd"
   ]
  },
  {
   "cell_type": "code",
   "execution_count": 2,
   "id": "b384d4a0-0fc7-460f-b68a-aab4c9bd2407",
   "metadata": {},
   "outputs": [],
   "source": [
    "import matplotlib.pyplot as plt"
   ]
  },
  {
   "cell_type": "code",
   "execution_count": 3,
   "id": "7762ef38-4cb0-420b-a8f6-5b29dc421c8f",
   "metadata": {},
   "outputs": [],
   "source": [
    "import seaborn as sns"
   ]
  },
  {
   "cell_type": "code",
   "execution_count": 4,
   "id": "0c335f04-f3b1-4ac1-8c33-6e68eff4075a",
   "metadata": {},
   "outputs": [],
   "source": [
    "import numpy as np"
   ]
  },
  {
   "cell_type": "code",
   "execution_count": 5,
   "id": "cdd3df29-3e33-42a8-97e2-bb9f440fd748",
   "metadata": {},
   "outputs": [],
   "source": [
    "from sklearn.preprocessing import MinMaxScaler"
   ]
  },
  {
   "cell_type": "code",
   "execution_count": 6,
   "id": "d58fcc63-0438-48a9-bfcf-4495d14a2c28",
   "metadata": {},
   "outputs": [],
   "source": [
    "#prepare data for analysis\n",
    "df=pd.read_csv(\"C://Users//chand//OneDrive//Documents//learn//git//fullstack_python//assignment-51//Sales.csv\")"
   ]
  },
  {
   "cell_type": "code",
   "execution_count": 7,
   "id": "bc0aa914-e902-4199-9570-be454bd2b68d",
   "metadata": {},
   "outputs": [
    {
     "data": {
      "text/html": [
       "<div>\n",
       "<style scoped>\n",
       "    .dataframe tbody tr th:only-of-type {\n",
       "        vertical-align: middle;\n",
       "    }\n",
       "\n",
       "    .dataframe tbody tr th {\n",
       "        vertical-align: top;\n",
       "    }\n",
       "\n",
       "    .dataframe thead th {\n",
       "        text-align: right;\n",
       "    }\n",
       "</style>\n",
       "<table border=\"1\" class=\"dataframe\">\n",
       "  <thead>\n",
       "    <tr style=\"text-align: right;\">\n",
       "      <th></th>\n",
       "      <th>Date</th>\n",
       "      <th>Time</th>\n",
       "      <th>State</th>\n",
       "      <th>Group</th>\n",
       "      <th>Unit</th>\n",
       "      <th>Sales</th>\n",
       "    </tr>\n",
       "  </thead>\n",
       "  <tbody>\n",
       "    <tr>\n",
       "      <th>0</th>\n",
       "      <td>01-Oct-20</td>\n",
       "      <td>Morning</td>\n",
       "      <td>WA</td>\n",
       "      <td>Kids</td>\n",
       "      <td>8</td>\n",
       "      <td>20000</td>\n",
       "    </tr>\n",
       "    <tr>\n",
       "      <th>1</th>\n",
       "      <td>01-Oct-20</td>\n",
       "      <td>Morning</td>\n",
       "      <td>WA</td>\n",
       "      <td>Men</td>\n",
       "      <td>8</td>\n",
       "      <td>20000</td>\n",
       "    </tr>\n",
       "    <tr>\n",
       "      <th>2</th>\n",
       "      <td>01-Oct-20</td>\n",
       "      <td>Morning</td>\n",
       "      <td>WA</td>\n",
       "      <td>Women</td>\n",
       "      <td>4</td>\n",
       "      <td>10000</td>\n",
       "    </tr>\n",
       "    <tr>\n",
       "      <th>3</th>\n",
       "      <td>01-Oct-20</td>\n",
       "      <td>Morning</td>\n",
       "      <td>WA</td>\n",
       "      <td>Seniors</td>\n",
       "      <td>15</td>\n",
       "      <td>37500</td>\n",
       "    </tr>\n",
       "    <tr>\n",
       "      <th>4</th>\n",
       "      <td>01-Oct-20</td>\n",
       "      <td>Afternoon</td>\n",
       "      <td>WA</td>\n",
       "      <td>Kids</td>\n",
       "      <td>3</td>\n",
       "      <td>7500</td>\n",
       "    </tr>\n",
       "    <tr>\n",
       "      <th>...</th>\n",
       "      <td>...</td>\n",
       "      <td>...</td>\n",
       "      <td>...</td>\n",
       "      <td>...</td>\n",
       "      <td>...</td>\n",
       "      <td>...</td>\n",
       "    </tr>\n",
       "    <tr>\n",
       "      <th>7555</th>\n",
       "      <td>30-Dec-20</td>\n",
       "      <td>Afternoon</td>\n",
       "      <td>TX</td>\n",
       "      <td>Seniors</td>\n",
       "      <td>14</td>\n",
       "      <td>35000</td>\n",
       "    </tr>\n",
       "    <tr>\n",
       "      <th>7556</th>\n",
       "      <td>30-Dec-20</td>\n",
       "      <td>Evening</td>\n",
       "      <td>TX</td>\n",
       "      <td>Kids</td>\n",
       "      <td>15</td>\n",
       "      <td>37500</td>\n",
       "    </tr>\n",
       "    <tr>\n",
       "      <th>7557</th>\n",
       "      <td>30-Dec-20</td>\n",
       "      <td>Evening</td>\n",
       "      <td>TX</td>\n",
       "      <td>Men</td>\n",
       "      <td>15</td>\n",
       "      <td>37500</td>\n",
       "    </tr>\n",
       "    <tr>\n",
       "      <th>7558</th>\n",
       "      <td>30-Dec-20</td>\n",
       "      <td>Evening</td>\n",
       "      <td>TX</td>\n",
       "      <td>Women</td>\n",
       "      <td>11</td>\n",
       "      <td>27500</td>\n",
       "    </tr>\n",
       "    <tr>\n",
       "      <th>7559</th>\n",
       "      <td>30-Dec-20</td>\n",
       "      <td>Evening</td>\n",
       "      <td>TX</td>\n",
       "      <td>Seniors</td>\n",
       "      <td>13</td>\n",
       "      <td>32500</td>\n",
       "    </tr>\n",
       "  </tbody>\n",
       "</table>\n",
       "<p>7560 rows × 6 columns</p>\n",
       "</div>"
      ],
      "text/plain": [
       "           Date        Time State     Group  Unit  Sales\n",
       "0     01-Oct-20     Morning    WA      Kids     8  20000\n",
       "1     01-Oct-20     Morning    WA       Men     8  20000\n",
       "2     01-Oct-20     Morning    WA     Women     4  10000\n",
       "3     01-Oct-20     Morning    WA   Seniors    15  37500\n",
       "4     01-Oct-20   Afternoon    WA      Kids     3   7500\n",
       "...         ...         ...   ...       ...   ...    ...\n",
       "7555  30-Dec-20   Afternoon    TX   Seniors    14  35000\n",
       "7556  30-Dec-20     Evening    TX      Kids    15  37500\n",
       "7557  30-Dec-20     Evening    TX       Men    15  37500\n",
       "7558  30-Dec-20     Evening    TX     Women    11  27500\n",
       "7559  30-Dec-20     Evening    TX   Seniors    13  32500\n",
       "\n",
       "[7560 rows x 6 columns]"
      ]
     },
     "execution_count": 7,
     "metadata": {},
     "output_type": "execute_result"
    }
   ],
   "source": [
    "df"
   ]
  },
  {
   "cell_type": "code",
   "execution_count": 8,
   "id": "af6b2a20-72dd-47eb-a334-eed63ecd1fdc",
   "metadata": {},
   "outputs": [
    {
     "data": {
      "text/plain": [
       "(7560, 6)"
      ]
     },
     "execution_count": 8,
     "metadata": {},
     "output_type": "execute_result"
    }
   ],
   "source": [
    "#Print the DataFrame df and determine its dimensions\n",
    "df.shape"
   ]
  },
  {
   "cell_type": "code",
   "execution_count": 9,
   "id": "cdf00f1c-01c2-4279-8de4-cc75b65d6015",
   "metadata": {},
   "outputs": [
    {
     "data": {
      "text/plain": [
       "45360"
      ]
     },
     "execution_count": 9,
     "metadata": {},
     "output_type": "execute_result"
    }
   ],
   "source": [
    "df.size"
   ]
  },
  {
   "cell_type": "code",
   "execution_count": 10,
   "id": "6755cbbc-60c7-4113-9005-5c01348e74af",
   "metadata": {},
   "outputs": [
    {
     "name": "stdout",
     "output_type": "stream",
     "text": [
      "<class 'pandas.core.frame.DataFrame'>\n",
      "RangeIndex: 7560 entries, 0 to 7559\n",
      "Data columns (total 6 columns):\n",
      " #   Column  Non-Null Count  Dtype \n",
      "---  ------  --------------  ----- \n",
      " 0   Date    7560 non-null   object\n",
      " 1   Time    7560 non-null   object\n",
      " 2   State   7560 non-null   object\n",
      " 3   Group   7560 non-null   object\n",
      " 4   Unit    7560 non-null   int64 \n",
      " 5   Sales   7560 non-null   int64 \n",
      "dtypes: int64(2), object(4)\n",
      "memory usage: 354.5+ KB\n"
     ]
    }
   ],
   "source": [
    "#Check for missing values in the DataFrame\n",
    "df.info()"
   ]
  },
  {
   "cell_type": "code",
   "execution_count": 11,
   "id": "0a1fd811-f990-46e6-9a23-789e115d24c7",
   "metadata": {},
   "outputs": [
    {
     "data": {
      "text/plain": [
       "Date     0\n",
       "Time     0\n",
       "State    0\n",
       "Group    0\n",
       "Unit     0\n",
       "Sales    0\n",
       "dtype: int64"
      ]
     },
     "execution_count": 11,
     "metadata": {},
     "output_type": "execute_result"
    }
   ],
   "source": [
    "df.isnull().sum()"
   ]
  },
  {
   "cell_type": "code",
   "execution_count": 12,
   "id": "d2e33b2a-5d74-46e3-b2ff-0e805e7912f4",
   "metadata": {},
   "outputs": [],
   "source": [
    "#Normalize Data for Analysis\n",
    "#Create a new DataFrame called df_dataonly from the existing df object\n",
    "df_dataonly=df['Unit'],df['Sales']"
   ]
  },
  {
   "cell_type": "code",
   "execution_count": 13,
   "id": "3d43d566-371f-47a7-adbb-5156f9bec43e",
   "metadata": {},
   "outputs": [
    {
     "data": {
      "text/plain": [
       "(0        8\n",
       " 1        8\n",
       " 2        4\n",
       " 3       15\n",
       " 4        3\n",
       "         ..\n",
       " 7555    14\n",
       " 7556    15\n",
       " 7557    15\n",
       " 7558    11\n",
       " 7559    13\n",
       " Name: Unit, Length: 7560, dtype: int64,\n",
       " 0       20000\n",
       " 1       20000\n",
       " 2       10000\n",
       " 3       37500\n",
       " 4        7500\n",
       "         ...  \n",
       " 7555    35000\n",
       " 7556    37500\n",
       " 7557    37500\n",
       " 7558    27500\n",
       " 7559    32500\n",
       " Name: Sales, Length: 7560, dtype: int64)"
      ]
     },
     "execution_count": 13,
     "metadata": {},
     "output_type": "execute_result"
    }
   ],
   "source": [
    "df_dataonly"
   ]
  },
  {
   "cell_type": "code",
   "execution_count": 14,
   "id": "8486b10f-b876-4795-b66a-1bcdd136656a",
   "metadata": {},
   "outputs": [],
   "source": [
    "#Create a normalize object\n",
    "normalize=MinMaxScaler()"
   ]
  },
  {
   "cell_type": "code",
   "execution_count": 15,
   "id": "2bdd6063-17a4-4cd2-b9c2-01fa9091f304",
   "metadata": {},
   "outputs": [],
   "source": [
    "normalize_data = normalize.fit_transform(df_dataonly)"
   ]
  },
  {
   "cell_type": "code",
   "execution_count": 16,
   "id": "6c3b5ab6-548d-467a-b2bc-29c90dde5897",
   "metadata": {},
   "outputs": [
    {
     "data": {
      "text/plain": [
       "array([[0., 0., 0., ..., 0., 0., 0.],\n",
       "       [1., 1., 1., ..., 1., 1., 1.]])"
      ]
     },
     "execution_count": 16,
     "metadata": {},
     "output_type": "execute_result"
    }
   ],
   "source": [
    "normalize_data"
   ]
  },
  {
   "cell_type": "code",
   "execution_count": 17,
   "id": "3ab8bf00-7545-4d08-b118-e3937b314880",
   "metadata": {},
   "outputs": [
    {
     "data": {
      "text/plain": [
       "array([[0.],\n",
       "       [1.]])"
      ]
     },
     "execution_count": 17,
     "metadata": {},
     "output_type": "execute_result"
    }
   ],
   "source": [
    "normalize_data[:,[0]]"
   ]
  },
  {
   "cell_type": "code",
   "execution_count": 18,
   "id": "12136448-aa90-44a5-a49e-9fbeb7a3be29",
   "metadata": {},
   "outputs": [
    {
     "name": "stdout",
     "output_type": "stream",
     "text": [
      "unit's minimum normalize scale is: 0.0\n"
     ]
    }
   ],
   "source": [
    "#Check the min and max values of each column. \n",
    "unit_min=normalize_data[:,[0]].min()\n",
    "unit_min\n",
    "print(f\"unit's minimum normalize scale is: {unit_min}\")"
   ]
  },
  {
   "cell_type": "code",
   "execution_count": 19,
   "id": "b961d992-9f90-4ac8-96fa-9a9d4b1bb520",
   "metadata": {},
   "outputs": [
    {
     "name": "stdout",
     "output_type": "stream",
     "text": [
      "unit's maximum narmalize scale is : 1.0000000000000002\n"
     ]
    }
   ],
   "source": [
    "unit_max=normalize_data[:,[0]].max()\n",
    "unit_max\n",
    "print(f\"unit's maximum narmalize scale is : {unit_max}\")"
   ]
  },
  {
   "cell_type": "code",
   "execution_count": 20,
   "id": "3657ac8a-869d-4eb7-ac53-bc7e7d734a21",
   "metadata": {},
   "outputs": [
    {
     "name": "stdout",
     "output_type": "stream",
     "text": [
      "sale's minimum normalize scale is: 0.0\n"
     ]
    }
   ],
   "source": [
    "sales_min=normalize_data[:,[1]].min()\n",
    "sales_min\n",
    "print(f\"sale's minimum normalize scale is: {sales_min}\")"
   ]
  },
  {
   "cell_type": "code",
   "execution_count": 21,
   "id": "f4fea8dc-db2a-4ff9-b7ad-09b6a3d0bc1b",
   "metadata": {},
   "outputs": [
    {
     "name": "stdout",
     "output_type": "stream",
     "text": [
      "sale's maximum normalize scale is:1.0000000000000002\n"
     ]
    }
   ],
   "source": [
    "sales_max=normalize_data[:,[1]].max()\n",
    "sales_max\n",
    "print(f\"sale's maximum normalize scale is:{sales_max}\")"
   ]
  },
  {
   "cell_type": "code",
   "execution_count": 22,
   "id": "e4e7c772-9910-4271-aeac-fb0d9db5aa85",
   "metadata": {},
   "outputs": [
    {
     "data": {
      "text/plain": [
       "array(['01-Oct-20', '02-Oct-20', '03-Oct-20', '04-Oct-20', '05-Oct-20',\n",
       "       '06-Oct-20', '07-Oct-20', '08-Oct-20', '09-Oct-20', '10-Oct-20',\n",
       "       '11-Oct-20', '12-Oct-20', '13-Oct-20', '14-Oct-20', '15-Oct-20',\n",
       "       '16-Oct-20', '17-Oct-20', '18-Oct-20', '19-Oct-20', '20-Oct-20',\n",
       "       '21-Oct-20', '22-Oct-20', '23-Oct-20', '24-Oct-20', '25-Oct-20',\n",
       "       '26-Oct-20', '27-Oct-20', '28-Oct-20', '29-Oct-20', '30-Oct-20',\n",
       "       '01-Nov-20', '02-Nov-20', '03-Nov-20', '04-Nov-20', '05-Nov-20',\n",
       "       '06-Nov-20', '07-Nov-20', '08-Nov-20', '09-Nov-20', '10-Nov-20',\n",
       "       '11-Nov-20', '12-Nov-20', '13-Nov-20', '14-Nov-20', '15-Nov-20',\n",
       "       '16-Nov-20', '17-Nov-20', '18-Nov-20', '19-Nov-20', '20-Nov-20',\n",
       "       '21-Nov-20', '22-Nov-20', '23-Nov-20', '24-Nov-20', '25-Nov-20',\n",
       "       '26-Nov-20', '27-Nov-20', '28-Nov-20', '29-Nov-20', '30-Nov-20',\n",
       "       '01-Dec-20', '02-Dec-20', '03-Dec-20', '04-Dec-20', '05-Dec-20',\n",
       "       '06-Dec-20', '07-Dec-20', '08-Dec-20', '09-Dec-20', '10-Dec-20',\n",
       "       '11-Dec-20', '12-Dec-20', '13-Dec-20', '14-Dec-20', '15-Dec-20',\n",
       "       '16-Dec-20', '17-Dec-20', '18-Dec-20', '19-Dec-20', '20-Dec-20',\n",
       "       '21-Dec-20', '22-Dec-20', '23-Dec-20', '24-Dec-20', '25-Dec-20',\n",
       "       '26-Dec-20', '27-Dec-20', '28-Dec-20', '29-Dec-20', '30-Dec-20'],\n",
       "      dtype=object)"
      ]
     },
     "execution_count": 22,
     "metadata": {},
     "output_type": "execute_result"
    }
   ],
   "source": [
    "#Visualize Overall Trends\n",
    "df['Date'].unique()"
   ]
  },
  {
   "cell_type": "code",
   "execution_count": 23,
   "id": "15df77a2-ae8b-4dae-b9d0-019e89b57e53",
   "metadata": {},
   "outputs": [],
   "source": [
    "unit_date=df.groupby('Date')['Unit'].sum()"
   ]
  },
  {
   "cell_type": "code",
   "execution_count": 24,
   "id": "8f1a4bf4-2b70-4f1d-9135-af12c455c6dc",
   "metadata": {},
   "outputs": [
    {
     "data": {
      "text/plain": [
       "Date\n",
       "01-Dec-20    1786\n",
       "01-Nov-20    1208\n",
       "01-Oct-20    1488\n",
       "02-Dec-20    1826\n",
       "02-Nov-20    1090\n",
       "             ... \n",
       "29-Nov-20    1294\n",
       "29-Oct-20    1529\n",
       "30-Dec-20    1836\n",
       "30-Nov-20    1214\n",
       "30-Oct-20    1521\n",
       "Name: Unit, Length: 90, dtype: int64"
      ]
     },
     "execution_count": 24,
     "metadata": {},
     "output_type": "execute_result"
    }
   ],
   "source": [
    "unit_date"
   ]
  },
  {
   "cell_type": "code",
   "execution_count": 25,
   "id": "93515363-784d-4d4a-a672-35bde46780b6",
   "metadata": {},
   "outputs": [
    {
     "data": {
      "text/plain": [
       "Text(0, 0.5, 'Unit')"
      ]
     },
     "execution_count": 25,
     "metadata": {},
     "output_type": "execute_result"
    },
    {
     "data": {
      "image/png": "[encoded data removed]",
      "text/plain": [
       "<Figure size 640x480 with 1 Axes>"
      ]
     },
     "metadata": {},
     "output_type": "display_data"
    }
   ],
   "source": [
    "unit_date.plot(kind='line')\n",
    "plt.title(\"UNIT BY DATE\")\n",
    "plt.ylabel(\"Unit\")"
   ]
  },
  {
   "cell_type": "code",
   "execution_count": 26,
   "id": "d392a486-b388-43ae-8b9f-e1271882590e",
   "metadata": {},
   "outputs": [],
   "source": [
    "sale_date=df.groupby('Date')['Sales'].sum()"
   ]
  },
  {
   "cell_type": "code",
   "execution_count": 27,
   "id": "71445fe6-8b86-4b7f-b83e-da3726b65d17",
   "metadata": {},
   "outputs": [
    {
     "data": {
      "text/plain": [
       "Date\n",
       "01-Dec-20    4465000\n",
       "01-Nov-20    3020000\n",
       "01-Oct-20    3720000\n",
       "02-Dec-20    4565000\n",
       "02-Nov-20    2725000\n",
       "              ...   \n",
       "29-Nov-20    3235000\n",
       "29-Oct-20    3822500\n",
       "30-Dec-20    4590000\n",
       "30-Nov-20    3035000\n",
       "30-Oct-20    3802500\n",
       "Name: Sales, Length: 90, dtype: int64"
      ]
     },
     "execution_count": 27,
     "metadata": {},
     "output_type": "execute_result"
    }
   ],
   "source": [
    "sale_date"
   ]
  },
  {
   "cell_type": "code",
   "execution_count": 28,
   "id": "0b7b257e-d8f2-4d26-8a49-2d4c6d5fe68e",
   "metadata": {},
   "outputs": [
    {
     "data": {
      "text/plain": [
       "Text(0, 0.5, 'Sales')"
      ]
     },
     "execution_count": 28,
     "metadata": {},
     "output_type": "execute_result"
    },
    {
     "data": {
      "image/png": "[encoded data removed]",
      "text/plain": [
       "<Figure size 640x480 with 1 Axes>"
      ]
     },
     "metadata": {},
     "output_type": "display_data"
    }
   ],
   "source": [
    "sale_date.plot(kind='line')\n",
    "plt.title(\"SALES BY DATE\")\n",
    "plt.ylabel(\"Sales\")"
   ]
  },
  {
   "cell_type": "code",
   "execution_count": 29,
   "id": "a3cd63a8-811e-4d97-9d09-f069f46dcf04",
   "metadata": {},
   "outputs": [
    {
     "name": "stderr",
     "output_type": "stream",
     "text": [
      "C:\\Users\\chand\\AppData\\Local\\Temp\\ipykernel_13480\\3303413195.py:2: UserWarning: Could not infer format, so each element will be parsed individually, falling back to `dateutil`. To ensure parsing is consistent and as-expected, please specify a format.\n",
      "  df['Date'] = pd.to_datetime(df['Date'])\n"
     ]
    }
   ],
   "source": [
    "#analyze monthly data\n",
    "df['Date'] = pd.to_datetime(df['Date'])"
   ]
  },
  {
   "cell_type": "code",
   "execution_count": 30,
   "id": "9abc6c99-a918-4e8c-a5c7-3b2f782b05fb",
   "metadata": {},
   "outputs": [],
   "source": [
    "df.set_index(['Date'],inplace = True)"
   ]
  },
  {
   "cell_type": "code",
   "execution_count": 31,
   "id": "f4993a8e-d739-4f4b-9346-f8fb10b09d22",
   "metadata": {},
   "outputs": [
    {
     "data": {
      "text/html": [
       "<div>\n",
       "<style scoped>\n",
       "    .dataframe tbody tr th:only-of-type {\n",
       "        vertical-align: middle;\n",
       "    }\n",
       "\n",
       "    .dataframe tbody tr th {\n",
       "        vertical-align: top;\n",
       "    }\n",
       "\n",
       "    .dataframe thead th {\n",
       "        text-align: right;\n",
       "    }\n",
       "</style>\n",
       "<table border=\"1\" class=\"dataframe\">\n",
       "  <thead>\n",
       "    <tr style=\"text-align: right;\">\n",
       "      <th></th>\n",
       "      <th>Time</th>\n",
       "      <th>State</th>\n",
       "      <th>Group</th>\n",
       "      <th>Unit</th>\n",
       "      <th>Sales</th>\n",
       "    </tr>\n",
       "    <tr>\n",
       "      <th>Date</th>\n",
       "      <th></th>\n",
       "      <th></th>\n",
       "      <th></th>\n",
       "      <th></th>\n",
       "      <th></th>\n",
       "    </tr>\n",
       "  </thead>\n",
       "  <tbody>\n",
       "    <tr>\n",
       "      <th>2020-10-01</th>\n",
       "      <td>Morning</td>\n",
       "      <td>WA</td>\n",
       "      <td>Kids</td>\n",
       "      <td>8</td>\n",
       "      <td>20000</td>\n",
       "    </tr>\n",
       "    <tr>\n",
       "      <th>2020-10-01</th>\n",
       "      <td>Morning</td>\n",
       "      <td>WA</td>\n",
       "      <td>Men</td>\n",
       "      <td>8</td>\n",
       "      <td>20000</td>\n",
       "    </tr>\n",
       "    <tr>\n",
       "      <th>2020-10-01</th>\n",
       "      <td>Morning</td>\n",
       "      <td>WA</td>\n",
       "      <td>Women</td>\n",
       "      <td>4</td>\n",
       "      <td>10000</td>\n",
       "    </tr>\n",
       "    <tr>\n",
       "      <th>2020-10-01</th>\n",
       "      <td>Morning</td>\n",
       "      <td>WA</td>\n",
       "      <td>Seniors</td>\n",
       "      <td>15</td>\n",
       "      <td>37500</td>\n",
       "    </tr>\n",
       "    <tr>\n",
       "      <th>2020-10-01</th>\n",
       "      <td>Afternoon</td>\n",
       "      <td>WA</td>\n",
       "      <td>Kids</td>\n",
       "      <td>3</td>\n",
       "      <td>7500</td>\n",
       "    </tr>\n",
       "    <tr>\n",
       "      <th>...</th>\n",
       "      <td>...</td>\n",
       "      <td>...</td>\n",
       "      <td>...</td>\n",
       "      <td>...</td>\n",
       "      <td>...</td>\n",
       "    </tr>\n",
       "    <tr>\n",
       "      <th>2020-12-30</th>\n",
       "      <td>Afternoon</td>\n",
       "      <td>TX</td>\n",
       "      <td>Seniors</td>\n",
       "      <td>14</td>\n",
       "      <td>35000</td>\n",
       "    </tr>\n",
       "    <tr>\n",
       "      <th>2020-12-30</th>\n",
       "      <td>Evening</td>\n",
       "      <td>TX</td>\n",
       "      <td>Kids</td>\n",
       "      <td>15</td>\n",
       "      <td>37500</td>\n",
       "    </tr>\n",
       "    <tr>\n",
       "      <th>2020-12-30</th>\n",
       "      <td>Evening</td>\n",
       "      <td>TX</td>\n",
       "      <td>Men</td>\n",
       "      <td>15</td>\n",
       "      <td>37500</td>\n",
       "    </tr>\n",
       "    <tr>\n",
       "      <th>2020-12-30</th>\n",
       "      <td>Evening</td>\n",
       "      <td>TX</td>\n",
       "      <td>Women</td>\n",
       "      <td>11</td>\n",
       "      <td>27500</td>\n",
       "    </tr>\n",
       "    <tr>\n",
       "      <th>2020-12-30</th>\n",
       "      <td>Evening</td>\n",
       "      <td>TX</td>\n",
       "      <td>Seniors</td>\n",
       "      <td>13</td>\n",
       "      <td>32500</td>\n",
       "    </tr>\n",
       "  </tbody>\n",
       "</table>\n",
       "<p>7560 rows × 5 columns</p>\n",
       "</div>"
      ],
      "text/plain": [
       "                  Time State     Group  Unit  Sales\n",
       "Date                                               \n",
       "2020-10-01     Morning    WA      Kids     8  20000\n",
       "2020-10-01     Morning    WA       Men     8  20000\n",
       "2020-10-01     Morning    WA     Women     4  10000\n",
       "2020-10-01     Morning    WA   Seniors    15  37500\n",
       "2020-10-01   Afternoon    WA      Kids     3   7500\n",
       "...                ...   ...       ...   ...    ...\n",
       "2020-12-30   Afternoon    TX   Seniors    14  35000\n",
       "2020-12-30     Evening    TX      Kids    15  37500\n",
       "2020-12-30     Evening    TX       Men    15  37500\n",
       "2020-12-30     Evening    TX     Women    11  27500\n",
       "2020-12-30     Evening    TX   Seniors    13  32500\n",
       "\n",
       "[7560 rows x 5 columns]"
      ]
     },
     "execution_count": 31,
     "metadata": {},
     "output_type": "execute_result"
    }
   ],
   "source": [
    "df"
   ]
  },
  {
   "cell_type": "code",
   "execution_count": 32,
   "id": "baa0c27a-577d-4053-8703-a4d1d02c1c94",
   "metadata": {},
   "outputs": [],
   "source": [
    "monthly_data=df[['Unit','Sales']].resample('ME').sum()"
   ]
  },
  {
   "cell_type": "code",
   "execution_count": 33,
   "id": "8b97ff60-9923-4760-b5f7-7b0fe1feacd4",
   "metadata": {},
   "outputs": [
    {
     "data": {
      "text/html": [
       "<div>\n",
       "<style scoped>\n",
       "    .dataframe tbody tr th:only-of-type {\n",
       "        vertical-align: middle;\n",
       "    }\n",
       "\n",
       "    .dataframe tbody tr th {\n",
       "        vertical-align: top;\n",
       "    }\n",
       "\n",
       "    .dataframe thead th {\n",
       "        text-align: right;\n",
       "    }\n",
       "</style>\n",
       "<table border=\"1\" class=\"dataframe\">\n",
       "  <thead>\n",
       "    <tr style=\"text-align: right;\">\n",
       "      <th></th>\n",
       "      <th>Unit</th>\n",
       "      <th>Sales</th>\n",
       "    </tr>\n",
       "    <tr>\n",
       "      <th>Date</th>\n",
       "      <th></th>\n",
       "      <th></th>\n",
       "    </tr>\n",
       "  </thead>\n",
       "  <tbody>\n",
       "    <tr>\n",
       "      <th>2020-10-31</th>\n",
       "      <td>45716</td>\n",
       "      <td>114290000</td>\n",
       "    </tr>\n",
       "    <tr>\n",
       "      <th>2020-11-30</th>\n",
       "      <td>36273</td>\n",
       "      <td>90682500</td>\n",
       "    </tr>\n",
       "    <tr>\n",
       "      <th>2020-12-31</th>\n",
       "      <td>54132</td>\n",
       "      <td>135330000</td>\n",
       "    </tr>\n",
       "  </tbody>\n",
       "</table>\n",
       "</div>"
      ],
      "text/plain": [
       "             Unit      Sales\n",
       "Date                        \n",
       "2020-10-31  45716  114290000\n",
       "2020-11-30  36273   90682500\n",
       "2020-12-31  54132  135330000"
      ]
     },
     "execution_count": 33,
     "metadata": {},
     "output_type": "execute_result"
    }
   ],
   "source": [
    "monthly_data"
   ]
  },
  {
   "cell_type": "code",
   "execution_count": 34,
   "id": "0f7640e6-bd41-4ff1-b9d8-91c78e7cae3f",
   "metadata": {},
   "outputs": [
    {
     "data": {
      "text/html": [
       "<div>\n",
       "<style scoped>\n",
       "    .dataframe tbody tr th:only-of-type {\n",
       "        vertical-align: middle;\n",
       "    }\n",
       "\n",
       "    .dataframe tbody tr th {\n",
       "        vertical-align: top;\n",
       "    }\n",
       "\n",
       "    .dataframe thead th {\n",
       "        text-align: right;\n",
       "    }\n",
       "</style>\n",
       "<table border=\"1\" class=\"dataframe\">\n",
       "  <thead>\n",
       "    <tr style=\"text-align: right;\">\n",
       "      <th></th>\n",
       "      <th>Time</th>\n",
       "      <th>State</th>\n",
       "      <th>Group</th>\n",
       "      <th>Unit</th>\n",
       "      <th>Sales</th>\n",
       "    </tr>\n",
       "    <tr>\n",
       "      <th>Date</th>\n",
       "      <th></th>\n",
       "      <th></th>\n",
       "      <th></th>\n",
       "      <th></th>\n",
       "      <th></th>\n",
       "    </tr>\n",
       "  </thead>\n",
       "  <tbody>\n",
       "    <tr>\n",
       "      <th>2020-10-01</th>\n",
       "      <td>Morning</td>\n",
       "      <td>WA</td>\n",
       "      <td>Kids</td>\n",
       "      <td>8</td>\n",
       "      <td>20000</td>\n",
       "    </tr>\n",
       "    <tr>\n",
       "      <th>2020-10-01</th>\n",
       "      <td>Morning</td>\n",
       "      <td>WA</td>\n",
       "      <td>Men</td>\n",
       "      <td>8</td>\n",
       "      <td>20000</td>\n",
       "    </tr>\n",
       "    <tr>\n",
       "      <th>2020-10-01</th>\n",
       "      <td>Morning</td>\n",
       "      <td>WA</td>\n",
       "      <td>Women</td>\n",
       "      <td>4</td>\n",
       "      <td>10000</td>\n",
       "    </tr>\n",
       "    <tr>\n",
       "      <th>2020-10-01</th>\n",
       "      <td>Morning</td>\n",
       "      <td>WA</td>\n",
       "      <td>Seniors</td>\n",
       "      <td>15</td>\n",
       "      <td>37500</td>\n",
       "    </tr>\n",
       "    <tr>\n",
       "      <th>2020-10-01</th>\n",
       "      <td>Afternoon</td>\n",
       "      <td>WA</td>\n",
       "      <td>Kids</td>\n",
       "      <td>3</td>\n",
       "      <td>7500</td>\n",
       "    </tr>\n",
       "    <tr>\n",
       "      <th>...</th>\n",
       "      <td>...</td>\n",
       "      <td>...</td>\n",
       "      <td>...</td>\n",
       "      <td>...</td>\n",
       "      <td>...</td>\n",
       "    </tr>\n",
       "    <tr>\n",
       "      <th>2020-10-30</th>\n",
       "      <td>Afternoon</td>\n",
       "      <td>TX</td>\n",
       "      <td>Seniors</td>\n",
       "      <td>12</td>\n",
       "      <td>30000</td>\n",
       "    </tr>\n",
       "    <tr>\n",
       "      <th>2020-10-30</th>\n",
       "      <td>Evening</td>\n",
       "      <td>TX</td>\n",
       "      <td>Kids</td>\n",
       "      <td>15</td>\n",
       "      <td>37500</td>\n",
       "    </tr>\n",
       "    <tr>\n",
       "      <th>2020-10-30</th>\n",
       "      <td>Evening</td>\n",
       "      <td>TX</td>\n",
       "      <td>Men</td>\n",
       "      <td>7</td>\n",
       "      <td>17500</td>\n",
       "    </tr>\n",
       "    <tr>\n",
       "      <th>2020-10-30</th>\n",
       "      <td>Evening</td>\n",
       "      <td>TX</td>\n",
       "      <td>Women</td>\n",
       "      <td>10</td>\n",
       "      <td>25000</td>\n",
       "    </tr>\n",
       "    <tr>\n",
       "      <th>2020-10-30</th>\n",
       "      <td>Evening</td>\n",
       "      <td>TX</td>\n",
       "      <td>Seniors</td>\n",
       "      <td>5</td>\n",
       "      <td>12500</td>\n",
       "    </tr>\n",
       "  </tbody>\n",
       "</table>\n",
       "<p>2520 rows × 5 columns</p>\n",
       "</div>"
      ],
      "text/plain": [
       "                  Time State     Group  Unit  Sales\n",
       "Date                                               \n",
       "2020-10-01     Morning    WA      Kids     8  20000\n",
       "2020-10-01     Morning    WA       Men     8  20000\n",
       "2020-10-01     Morning    WA     Women     4  10000\n",
       "2020-10-01     Morning    WA   Seniors    15  37500\n",
       "2020-10-01   Afternoon    WA      Kids     3   7500\n",
       "...                ...   ...       ...   ...    ...\n",
       "2020-10-30   Afternoon    TX   Seniors    12  30000\n",
       "2020-10-30     Evening    TX      Kids    15  37500\n",
       "2020-10-30     Evening    TX       Men     7  17500\n",
       "2020-10-30     Evening    TX     Women    10  25000\n",
       "2020-10-30     Evening    TX   Seniors     5  12500\n",
       "\n",
       "[2520 rows x 5 columns]"
      ]
     },
     "execution_count": 34,
     "metadata": {},
     "output_type": "execute_result"
    }
   ],
   "source": [
    "#get the sub-DataFrame, using the loc feature of DataFrame, and pass the range by date. \n",
    "#get octomber data\n",
    "octomber_df=df.loc['2020-10-01' : '2020-10-31']\n",
    "octomber_df"
   ]
  },
  {
   "cell_type": "code",
   "execution_count": 35,
   "id": "0fdd02a4-0dd1-4800-ba7e-8f02aef9c151",
   "metadata": {},
   "outputs": [],
   "source": [
    "#get november data\n",
    "nov_df=df.loc['2020-11-01' : '2020-11-30']"
   ]
  },
  {
   "cell_type": "code",
   "execution_count": 36,
   "id": "6cba9cfe-0fc2-42c0-a1c4-c5cf564e11ba",
   "metadata": {},
   "outputs": [
    {
     "data": {
      "text/html": [
       "<div>\n",
       "<style scoped>\n",
       "    .dataframe tbody tr th:only-of-type {\n",
       "        vertical-align: middle;\n",
       "    }\n",
       "\n",
       "    .dataframe tbody tr th {\n",
       "        vertical-align: top;\n",
       "    }\n",
       "\n",
       "    .dataframe thead th {\n",
       "        text-align: right;\n",
       "    }\n",
       "</style>\n",
       "<table border=\"1\" class=\"dataframe\">\n",
       "  <thead>\n",
       "    <tr style=\"text-align: right;\">\n",
       "      <th></th>\n",
       "      <th>Time</th>\n",
       "      <th>State</th>\n",
       "      <th>Group</th>\n",
       "      <th>Unit</th>\n",
       "      <th>Sales</th>\n",
       "    </tr>\n",
       "    <tr>\n",
       "      <th>Date</th>\n",
       "      <th></th>\n",
       "      <th></th>\n",
       "      <th></th>\n",
       "      <th></th>\n",
       "      <th></th>\n",
       "    </tr>\n",
       "  </thead>\n",
       "  <tbody>\n",
       "    <tr>\n",
       "      <th>2020-11-01</th>\n",
       "      <td>Morning</td>\n",
       "      <td>WA</td>\n",
       "      <td>Kids</td>\n",
       "      <td>4</td>\n",
       "      <td>10000</td>\n",
       "    </tr>\n",
       "    <tr>\n",
       "      <th>2020-11-01</th>\n",
       "      <td>Morning</td>\n",
       "      <td>WA</td>\n",
       "      <td>Men</td>\n",
       "      <td>6</td>\n",
       "      <td>15000</td>\n",
       "    </tr>\n",
       "    <tr>\n",
       "      <th>2020-11-01</th>\n",
       "      <td>Morning</td>\n",
       "      <td>WA</td>\n",
       "      <td>Women</td>\n",
       "      <td>4</td>\n",
       "      <td>10000</td>\n",
       "    </tr>\n",
       "    <tr>\n",
       "      <th>2020-11-01</th>\n",
       "      <td>Morning</td>\n",
       "      <td>WA</td>\n",
       "      <td>Seniors</td>\n",
       "      <td>7</td>\n",
       "      <td>17500</td>\n",
       "    </tr>\n",
       "    <tr>\n",
       "      <th>2020-11-01</th>\n",
       "      <td>Afternoon</td>\n",
       "      <td>WA</td>\n",
       "      <td>Kids</td>\n",
       "      <td>8</td>\n",
       "      <td>20000</td>\n",
       "    </tr>\n",
       "    <tr>\n",
       "      <th>...</th>\n",
       "      <td>...</td>\n",
       "      <td>...</td>\n",
       "      <td>...</td>\n",
       "      <td>...</td>\n",
       "      <td>...</td>\n",
       "    </tr>\n",
       "    <tr>\n",
       "      <th>2020-11-30</th>\n",
       "      <td>Afternoon</td>\n",
       "      <td>TX</td>\n",
       "      <td>Seniors</td>\n",
       "      <td>9</td>\n",
       "      <td>22500</td>\n",
       "    </tr>\n",
       "    <tr>\n",
       "      <th>2020-11-30</th>\n",
       "      <td>Evening</td>\n",
       "      <td>TX</td>\n",
       "      <td>Kids</td>\n",
       "      <td>9</td>\n",
       "      <td>22500</td>\n",
       "    </tr>\n",
       "    <tr>\n",
       "      <th>2020-11-30</th>\n",
       "      <td>Evening</td>\n",
       "      <td>TX</td>\n",
       "      <td>Men</td>\n",
       "      <td>10</td>\n",
       "      <td>25000</td>\n",
       "    </tr>\n",
       "    <tr>\n",
       "      <th>2020-11-30</th>\n",
       "      <td>Evening</td>\n",
       "      <td>TX</td>\n",
       "      <td>Women</td>\n",
       "      <td>9</td>\n",
       "      <td>22500</td>\n",
       "    </tr>\n",
       "    <tr>\n",
       "      <th>2020-11-30</th>\n",
       "      <td>Evening</td>\n",
       "      <td>TX</td>\n",
       "      <td>Seniors</td>\n",
       "      <td>2</td>\n",
       "      <td>5000</td>\n",
       "    </tr>\n",
       "  </tbody>\n",
       "</table>\n",
       "<p>2520 rows × 5 columns</p>\n",
       "</div>"
      ],
      "text/plain": [
       "                  Time State     Group  Unit  Sales\n",
       "Date                                               \n",
       "2020-11-01     Morning    WA      Kids     4  10000\n",
       "2020-11-01     Morning    WA       Men     6  15000\n",
       "2020-11-01     Morning    WA     Women     4  10000\n",
       "2020-11-01     Morning    WA   Seniors     7  17500\n",
       "2020-11-01   Afternoon    WA      Kids     8  20000\n",
       "...                ...   ...       ...   ...    ...\n",
       "2020-11-30   Afternoon    TX   Seniors     9  22500\n",
       "2020-11-30     Evening    TX      Kids     9  22500\n",
       "2020-11-30     Evening    TX       Men    10  25000\n",
       "2020-11-30     Evening    TX     Women     9  22500\n",
       "2020-11-30     Evening    TX   Seniors     2   5000\n",
       "\n",
       "[2520 rows x 5 columns]"
      ]
     },
     "execution_count": 36,
     "metadata": {},
     "output_type": "execute_result"
    }
   ],
   "source": [
    "nov_df"
   ]
  },
  {
   "cell_type": "code",
   "execution_count": 37,
   "id": "a11d488f-ac8c-4d7d-84c5-66d41aacdb36",
   "metadata": {},
   "outputs": [],
   "source": [
    "#get december data\n",
    "dec_df=df.loc['2020-12-01' : '2020-12-31']"
   ]
  },
  {
   "cell_type": "code",
   "execution_count": 38,
   "id": "0bf9a497-bd74-4d91-ac9b-4c0c1eb50f81",
   "metadata": {},
   "outputs": [
    {
     "data": {
      "text/html": [
       "<div>\n",
       "<style scoped>\n",
       "    .dataframe tbody tr th:only-of-type {\n",
       "        vertical-align: middle;\n",
       "    }\n",
       "\n",
       "    .dataframe tbody tr th {\n",
       "        vertical-align: top;\n",
       "    }\n",
       "\n",
       "    .dataframe thead th {\n",
       "        text-align: right;\n",
       "    }\n",
       "</style>\n",
       "<table border=\"1\" class=\"dataframe\">\n",
       "  <thead>\n",
       "    <tr style=\"text-align: right;\">\n",
       "      <th></th>\n",
       "      <th>Time</th>\n",
       "      <th>State</th>\n",
       "      <th>Group</th>\n",
       "      <th>Unit</th>\n",
       "      <th>Sales</th>\n",
       "    </tr>\n",
       "    <tr>\n",
       "      <th>Date</th>\n",
       "      <th></th>\n",
       "      <th></th>\n",
       "      <th></th>\n",
       "      <th></th>\n",
       "      <th></th>\n",
       "    </tr>\n",
       "  </thead>\n",
       "  <tbody>\n",
       "    <tr>\n",
       "      <th>2020-12-01</th>\n",
       "      <td>Morning</td>\n",
       "      <td>WA</td>\n",
       "      <td>Kids</td>\n",
       "      <td>9</td>\n",
       "      <td>22500</td>\n",
       "    </tr>\n",
       "    <tr>\n",
       "      <th>2020-12-01</th>\n",
       "      <td>Morning</td>\n",
       "      <td>WA</td>\n",
       "      <td>Men</td>\n",
       "      <td>11</td>\n",
       "      <td>27500</td>\n",
       "    </tr>\n",
       "    <tr>\n",
       "      <th>2020-12-01</th>\n",
       "      <td>Morning</td>\n",
       "      <td>WA</td>\n",
       "      <td>Women</td>\n",
       "      <td>15</td>\n",
       "      <td>37500</td>\n",
       "    </tr>\n",
       "    <tr>\n",
       "      <th>2020-12-01</th>\n",
       "      <td>Morning</td>\n",
       "      <td>WA</td>\n",
       "      <td>Seniors</td>\n",
       "      <td>13</td>\n",
       "      <td>32500</td>\n",
       "    </tr>\n",
       "    <tr>\n",
       "      <th>2020-12-01</th>\n",
       "      <td>Afternoon</td>\n",
       "      <td>WA</td>\n",
       "      <td>Kids</td>\n",
       "      <td>13</td>\n",
       "      <td>32500</td>\n",
       "    </tr>\n",
       "    <tr>\n",
       "      <th>...</th>\n",
       "      <td>...</td>\n",
       "      <td>...</td>\n",
       "      <td>...</td>\n",
       "      <td>...</td>\n",
       "      <td>...</td>\n",
       "    </tr>\n",
       "    <tr>\n",
       "      <th>2020-12-30</th>\n",
       "      <td>Afternoon</td>\n",
       "      <td>TX</td>\n",
       "      <td>Seniors</td>\n",
       "      <td>14</td>\n",
       "      <td>35000</td>\n",
       "    </tr>\n",
       "    <tr>\n",
       "      <th>2020-12-30</th>\n",
       "      <td>Evening</td>\n",
       "      <td>TX</td>\n",
       "      <td>Kids</td>\n",
       "      <td>15</td>\n",
       "      <td>37500</td>\n",
       "    </tr>\n",
       "    <tr>\n",
       "      <th>2020-12-30</th>\n",
       "      <td>Evening</td>\n",
       "      <td>TX</td>\n",
       "      <td>Men</td>\n",
       "      <td>15</td>\n",
       "      <td>37500</td>\n",
       "    </tr>\n",
       "    <tr>\n",
       "      <th>2020-12-30</th>\n",
       "      <td>Evening</td>\n",
       "      <td>TX</td>\n",
       "      <td>Women</td>\n",
       "      <td>11</td>\n",
       "      <td>27500</td>\n",
       "    </tr>\n",
       "    <tr>\n",
       "      <th>2020-12-30</th>\n",
       "      <td>Evening</td>\n",
       "      <td>TX</td>\n",
       "      <td>Seniors</td>\n",
       "      <td>13</td>\n",
       "      <td>32500</td>\n",
       "    </tr>\n",
       "  </tbody>\n",
       "</table>\n",
       "<p>2520 rows × 5 columns</p>\n",
       "</div>"
      ],
      "text/plain": [
       "                  Time State     Group  Unit  Sales\n",
       "Date                                               \n",
       "2020-12-01     Morning    WA      Kids     9  22500\n",
       "2020-12-01     Morning    WA       Men    11  27500\n",
       "2020-12-01     Morning    WA     Women    15  37500\n",
       "2020-12-01     Morning    WA   Seniors    13  32500\n",
       "2020-12-01   Afternoon    WA      Kids    13  32500\n",
       "...                ...   ...       ...   ...    ...\n",
       "2020-12-30   Afternoon    TX   Seniors    14  35000\n",
       "2020-12-30     Evening    TX      Kids    15  37500\n",
       "2020-12-30     Evening    TX       Men    15  37500\n",
       "2020-12-30     Evening    TX     Women    11  27500\n",
       "2020-12-30     Evening    TX   Seniors    13  32500\n",
       "\n",
       "[2520 rows x 5 columns]"
      ]
     },
     "execution_count": 38,
     "metadata": {},
     "output_type": "execute_result"
    }
   ],
   "source": [
    "dec_df"
   ]
  },
  {
   "cell_type": "code",
   "execution_count": 39,
   "id": "82cc0717-8199-41e6-9022-02873dfbcd4a",
   "metadata": {},
   "outputs": [
    {
     "data": {
      "text/html": [
       "<div>\n",
       "<style scoped>\n",
       "    .dataframe tbody tr th:only-of-type {\n",
       "        vertical-align: middle;\n",
       "    }\n",
       "\n",
       "    .dataframe tbody tr th {\n",
       "        vertical-align: top;\n",
       "    }\n",
       "\n",
       "    .dataframe thead th {\n",
       "        text-align: right;\n",
       "    }\n",
       "</style>\n",
       "<table border=\"1\" class=\"dataframe\">\n",
       "  <thead>\n",
       "    <tr style=\"text-align: right;\">\n",
       "      <th></th>\n",
       "      <th>Unit</th>\n",
       "      <th>Sales</th>\n",
       "    </tr>\n",
       "  </thead>\n",
       "  <tbody>\n",
       "    <tr>\n",
       "      <th>count</th>\n",
       "      <td>7560.000000</td>\n",
       "      <td>7560.000000</td>\n",
       "    </tr>\n",
       "    <tr>\n",
       "      <th>mean</th>\n",
       "      <td>18.005423</td>\n",
       "      <td>45013.558201</td>\n",
       "    </tr>\n",
       "    <tr>\n",
       "      <th>std</th>\n",
       "      <td>12.901403</td>\n",
       "      <td>32253.506944</td>\n",
       "    </tr>\n",
       "    <tr>\n",
       "      <th>min</th>\n",
       "      <td>2.000000</td>\n",
       "      <td>5000.000000</td>\n",
       "    </tr>\n",
       "    <tr>\n",
       "      <th>25%</th>\n",
       "      <td>8.000000</td>\n",
       "      <td>20000.000000</td>\n",
       "    </tr>\n",
       "    <tr>\n",
       "      <th>50%</th>\n",
       "      <td>14.000000</td>\n",
       "      <td>35000.000000</td>\n",
       "    </tr>\n",
       "    <tr>\n",
       "      <th>75%</th>\n",
       "      <td>26.000000</td>\n",
       "      <td>65000.000000</td>\n",
       "    </tr>\n",
       "    <tr>\n",
       "      <th>max</th>\n",
       "      <td>65.000000</td>\n",
       "      <td>162500.000000</td>\n",
       "    </tr>\n",
       "  </tbody>\n",
       "</table>\n",
       "</div>"
      ],
      "text/plain": [
       "              Unit          Sales\n",
       "count  7560.000000    7560.000000\n",
       "mean     18.005423   45013.558201\n",
       "std      12.901403   32253.506944\n",
       "min       2.000000    5000.000000\n",
       "25%       8.000000   20000.000000\n",
       "50%      14.000000   35000.000000\n",
       "75%      26.000000   65000.000000\n",
       "max      65.000000  162500.000000"
      ]
     },
     "execution_count": 39,
     "metadata": {},
     "output_type": "execute_result"
    }
   ],
   "source": [
    "#Describe Data for entire dataframe\n",
    "df.describe()"
   ]
  },
  {
   "cell_type": "code",
   "execution_count": 40,
   "id": "e380487d-fe14-41fd-83f6-c642b6a534b5",
   "metadata": {},
   "outputs": [
    {
     "data": {
      "text/html": [
       "<div>\n",
       "<style scoped>\n",
       "    .dataframe tbody tr th:only-of-type {\n",
       "        vertical-align: middle;\n",
       "    }\n",
       "\n",
       "    .dataframe tbody tr th {\n",
       "        vertical-align: top;\n",
       "    }\n",
       "\n",
       "    .dataframe thead th {\n",
       "        text-align: right;\n",
       "    }\n",
       "</style>\n",
       "<table border=\"1\" class=\"dataframe\">\n",
       "  <thead>\n",
       "    <tr style=\"text-align: right;\">\n",
       "      <th></th>\n",
       "      <th>Unit</th>\n",
       "      <th>Sales</th>\n",
       "    </tr>\n",
       "  </thead>\n",
       "  <tbody>\n",
       "    <tr>\n",
       "      <th>count</th>\n",
       "      <td>2520.000000</td>\n",
       "      <td>2520.000000</td>\n",
       "    </tr>\n",
       "    <tr>\n",
       "      <th>mean</th>\n",
       "      <td>18.141270</td>\n",
       "      <td>45353.174603</td>\n",
       "    </tr>\n",
       "    <tr>\n",
       "      <th>std</th>\n",
       "      <td>11.944521</td>\n",
       "      <td>29861.302213</td>\n",
       "    </tr>\n",
       "    <tr>\n",
       "      <th>min</th>\n",
       "      <td>3.000000</td>\n",
       "      <td>7500.000000</td>\n",
       "    </tr>\n",
       "    <tr>\n",
       "      <th>25%</th>\n",
       "      <td>9.000000</td>\n",
       "      <td>22500.000000</td>\n",
       "    </tr>\n",
       "    <tr>\n",
       "      <th>50%</th>\n",
       "      <td>14.000000</td>\n",
       "      <td>35000.000000</td>\n",
       "    </tr>\n",
       "    <tr>\n",
       "      <th>75%</th>\n",
       "      <td>27.000000</td>\n",
       "      <td>67500.000000</td>\n",
       "    </tr>\n",
       "    <tr>\n",
       "      <th>max</th>\n",
       "      <td>50.000000</td>\n",
       "      <td>125000.000000</td>\n",
       "    </tr>\n",
       "  </tbody>\n",
       "</table>\n",
       "</div>"
      ],
      "text/plain": [
       "              Unit          Sales\n",
       "count  2520.000000    2520.000000\n",
       "mean     18.141270   45353.174603\n",
       "std      11.944521   29861.302213\n",
       "min       3.000000    7500.000000\n",
       "25%       9.000000   22500.000000\n",
       "50%      14.000000   35000.000000\n",
       "75%      27.000000   67500.000000\n",
       "max      50.000000  125000.000000"
      ]
     },
     "execution_count": 40,
     "metadata": {},
     "output_type": "execute_result"
    }
   ],
   "source": [
    "#describe data for each month\n",
    "octomber_df.describe()"
   ]
  },
  {
   "cell_type": "code",
   "execution_count": 41,
   "id": "8dbe803f-7231-431e-9aa9-3e2f8dacec99",
   "metadata": {},
   "outputs": [
    {
     "data": {
      "text/html": [
       "<div>\n",
       "<style scoped>\n",
       "    .dataframe tbody tr th:only-of-type {\n",
       "        vertical-align: middle;\n",
       "    }\n",
       "\n",
       "    .dataframe tbody tr th {\n",
       "        vertical-align: top;\n",
       "    }\n",
       "\n",
       "    .dataframe thead th {\n",
       "        text-align: right;\n",
       "    }\n",
       "</style>\n",
       "<table border=\"1\" class=\"dataframe\">\n",
       "  <thead>\n",
       "    <tr style=\"text-align: right;\">\n",
       "      <th></th>\n",
       "      <th>Unit</th>\n",
       "      <th>Sales</th>\n",
       "    </tr>\n",
       "  </thead>\n",
       "  <tbody>\n",
       "    <tr>\n",
       "      <th>count</th>\n",
       "      <td>2520.000000</td>\n",
       "      <td>2520.000000</td>\n",
       "    </tr>\n",
       "    <tr>\n",
       "      <th>mean</th>\n",
       "      <td>14.394048</td>\n",
       "      <td>35985.119048</td>\n",
       "    </tr>\n",
       "    <tr>\n",
       "      <th>std</th>\n",
       "      <td>10.946470</td>\n",
       "      <td>27366.175823</td>\n",
       "    </tr>\n",
       "    <tr>\n",
       "      <th>min</th>\n",
       "      <td>2.000000</td>\n",
       "      <td>5000.000000</td>\n",
       "    </tr>\n",
       "    <tr>\n",
       "      <th>25%</th>\n",
       "      <td>6.000000</td>\n",
       "      <td>15000.000000</td>\n",
       "    </tr>\n",
       "    <tr>\n",
       "      <th>50%</th>\n",
       "      <td>10.000000</td>\n",
       "      <td>25000.000000</td>\n",
       "    </tr>\n",
       "    <tr>\n",
       "      <th>75%</th>\n",
       "      <td>22.000000</td>\n",
       "      <td>55000.000000</td>\n",
       "    </tr>\n",
       "    <tr>\n",
       "      <th>max</th>\n",
       "      <td>45.000000</td>\n",
       "      <td>112500.000000</td>\n",
       "    </tr>\n",
       "  </tbody>\n",
       "</table>\n",
       "</div>"
      ],
      "text/plain": [
       "              Unit          Sales\n",
       "count  2520.000000    2520.000000\n",
       "mean     14.394048   35985.119048\n",
       "std      10.946470   27366.175823\n",
       "min       2.000000    5000.000000\n",
       "25%       6.000000   15000.000000\n",
       "50%      10.000000   25000.000000\n",
       "75%      22.000000   55000.000000\n",
       "max      45.000000  112500.000000"
      ]
     },
     "execution_count": 41,
     "metadata": {},
     "output_type": "execute_result"
    }
   ],
   "source": [
    "nov_df.describe()"
   ]
  },
  {
   "cell_type": "code",
   "execution_count": 42,
   "id": "bcb37b1f-0010-4f64-bd99-f49882849528",
   "metadata": {},
   "outputs": [
    {
     "data": {
      "text/html": [
       "<div>\n",
       "<style scoped>\n",
       "    .dataframe tbody tr th:only-of-type {\n",
       "        vertical-align: middle;\n",
       "    }\n",
       "\n",
       "    .dataframe tbody tr th {\n",
       "        vertical-align: top;\n",
       "    }\n",
       "\n",
       "    .dataframe thead th {\n",
       "        text-align: right;\n",
       "    }\n",
       "</style>\n",
       "<table border=\"1\" class=\"dataframe\">\n",
       "  <thead>\n",
       "    <tr style=\"text-align: right;\">\n",
       "      <th></th>\n",
       "      <th>Unit</th>\n",
       "      <th>Sales</th>\n",
       "    </tr>\n",
       "  </thead>\n",
       "  <tbody>\n",
       "    <tr>\n",
       "      <th>count</th>\n",
       "      <td>2520.000000</td>\n",
       "      <td>2520.000000</td>\n",
       "    </tr>\n",
       "    <tr>\n",
       "      <th>mean</th>\n",
       "      <td>21.480952</td>\n",
       "      <td>53702.380952</td>\n",
       "    </tr>\n",
       "    <tr>\n",
       "      <th>std</th>\n",
       "      <td>14.554181</td>\n",
       "      <td>36385.451298</td>\n",
       "    </tr>\n",
       "    <tr>\n",
       "      <th>min</th>\n",
       "      <td>5.000000</td>\n",
       "      <td>12500.000000</td>\n",
       "    </tr>\n",
       "    <tr>\n",
       "      <th>25%</th>\n",
       "      <td>10.000000</td>\n",
       "      <td>25000.000000</td>\n",
       "    </tr>\n",
       "    <tr>\n",
       "      <th>50%</th>\n",
       "      <td>15.000000</td>\n",
       "      <td>37500.000000</td>\n",
       "    </tr>\n",
       "    <tr>\n",
       "      <th>75%</th>\n",
       "      <td>31.000000</td>\n",
       "      <td>77500.000000</td>\n",
       "    </tr>\n",
       "    <tr>\n",
       "      <th>max</th>\n",
       "      <td>65.000000</td>\n",
       "      <td>162500.000000</td>\n",
       "    </tr>\n",
       "  </tbody>\n",
       "</table>\n",
       "</div>"
      ],
      "text/plain": [
       "              Unit          Sales\n",
       "count  2520.000000    2520.000000\n",
       "mean     21.480952   53702.380952\n",
       "std      14.554181   36385.451298\n",
       "min       5.000000   12500.000000\n",
       "25%      10.000000   25000.000000\n",
       "50%      15.000000   37500.000000\n",
       "75%      31.000000   77500.000000\n",
       "max      65.000000  162500.000000"
      ]
     },
     "execution_count": 42,
     "metadata": {},
     "output_type": "execute_result"
    }
   ],
   "source": [
    "dec_df.describe()"
   ]
  },
  {
   "cell_type": "code",
   "execution_count": 43,
   "id": "0f21a941-40f5-4ce1-be7b-5a81c2cf753c",
   "metadata": {},
   "outputs": [],
   "source": [
    "#extract month\n",
    "df['Month'] = df.index.strftime('%B')"
   ]
  },
  {
   "cell_type": "code",
   "execution_count": 44,
   "id": "e886296d-d676-47f4-ba0e-7285e85e13d7",
   "metadata": {},
   "outputs": [
    {
     "data": {
      "text/plain": [
       "Text(0.5, 1.0, 'Distribution of unit per month')"
      ]
     },
     "execution_count": 44,
     "metadata": {},
     "output_type": "execute_result"
    },
    {
     "data": {
      "image/png": "[encoded data removed]",
      "text/plain": [
       "<Figure size 640x480 with 1 Axes>"
      ]
     },
     "metadata": {},
     "output_type": "display_data"
    }
   ],
   "source": [
    "#unit analysis\n",
    "sns.boxplot(x='Month',y='Unit',data=df)\n",
    "plt.title('Distribution of unit per month')"
   ]
  },
  {
   "cell_type": "code",
   "execution_count": 45,
   "id": "93748680-373c-41c4-a6ec-597696a178d8",
   "metadata": {},
   "outputs": [
    {
     "data": {
      "text/plain": [
       "Text(0.5, 0, 'Month')"
      ]
     },
     "execution_count": 45,
     "metadata": {},
     "output_type": "execute_result"
    },
    {
     "data": {
      "image/png": "[encoded data removed]",
      "text/plain": [
       "<Figure size 640x480 with 1 Axes>"
      ]
     },
     "metadata": {},
     "output_type": "display_data"
    }
   ],
   "source": [
    "#sales analysis\n",
    "sns.boxplot(x='Month', y='Sales', data=df)\n",
    "plt.title('Distribution of Sales Revenue per Month')\n",
    "plt.ylabel('Sales Revenue')\n",
    "plt.xlabel('Month')"
   ]
  },
  {
   "cell_type": "code",
   "execution_count": 46,
   "id": "262ce833-8922-4952-acb7-4078bcb52382",
   "metadata": {},
   "outputs": [
    {
     "data": {
      "text/html": [
       "<div>\n",
       "<style scoped>\n",
       "    .dataframe tbody tr th:only-of-type {\n",
       "        vertical-align: middle;\n",
       "    }\n",
       "\n",
       "    .dataframe tbody tr th {\n",
       "        vertical-align: top;\n",
       "    }\n",
       "\n",
       "    .dataframe thead th {\n",
       "        text-align: right;\n",
       "    }\n",
       "</style>\n",
       "<table border=\"1\" class=\"dataframe\">\n",
       "  <thead>\n",
       "    <tr style=\"text-align: right;\">\n",
       "      <th></th>\n",
       "      <th>Date</th>\n",
       "      <th>Unit</th>\n",
       "      <th>Sales</th>\n",
       "    </tr>\n",
       "  </thead>\n",
       "  <tbody>\n",
       "    <tr>\n",
       "      <th>0</th>\n",
       "      <td>2020-10-31</td>\n",
       "      <td>45716</td>\n",
       "      <td>114290000</td>\n",
       "    </tr>\n",
       "    <tr>\n",
       "      <th>1</th>\n",
       "      <td>2020-11-30</td>\n",
       "      <td>36273</td>\n",
       "      <td>90682500</td>\n",
       "    </tr>\n",
       "    <tr>\n",
       "      <th>2</th>\n",
       "      <td>2020-12-31</td>\n",
       "      <td>54132</td>\n",
       "      <td>135330000</td>\n",
       "    </tr>\n",
       "  </tbody>\n",
       "</table>\n",
       "</div>"
      ],
      "text/plain": [
       "        Date   Unit      Sales\n",
       "0 2020-10-31  45716  114290000\n",
       "1 2020-11-30  36273   90682500\n",
       "2 2020-12-31  54132  135330000"
      ]
     },
     "execution_count": 46,
     "metadata": {},
     "output_type": "execute_result"
    }
   ],
   "source": [
    "#group by month\n",
    "df\n",
    "monthly_data=monthly_data.reset_index()\n",
    "monthly_data"
   ]
  },
  {
   "cell_type": "code",
   "execution_count": 87,
   "id": "c393c78b-2a87-4f5d-9666-16b3e11496c7",
   "metadata": {},
   "outputs": [
    {
     "name": "stdout",
     "output_type": "stream",
     "text": [
      "<class 'pandas.core.series.Series'>\n"
     ]
    }
   ],
   "source": [
    "#to check monthly data is series or datafarame\n",
    "print(type(monthly_data))"
   ]
  },
  {
   "cell_type": "code",
   "execution_count": 47,
   "id": "861c3bce-65f0-4967-81d5-f489a1d2c3d3",
   "metadata": {},
   "outputs": [
    {
     "data": {
      "text/plain": [
       "Text(0, 0.5, 'Sales')"
      ]
     },
     "execution_count": 47,
     "metadata": {},
     "output_type": "execute_result"
    },
    {
     "data": {
      "image/png": "[encoded data removed]",
      "text/plain": [
       "<Figure size 800x500 with 1 Axes>"
      ]
     },
     "metadata": {},
     "output_type": "display_data"
    }
   ],
   "source": [
    "#Sales numbers for October, November, and December\n",
    "plt.figure(figsize=(8, 5))\n",
    "plt.bar(monthly_data['Date'],monthly_data['Sales'])\n",
    "plt.title('Total Sales Revenue', fontsize=10)\n",
    "plt.xlabel('Month')\n",
    "plt.ylabel('Sales')"
   ]
  },
  {
   "cell_type": "code",
   "execution_count": 91,
   "id": "748cb9b2-5ba4-4247-b506-a323f8067f2f",
   "metadata": {},
   "outputs": [
    {
     "data": {
      "text/plain": [
       "Text(0, 0.5, 'Sales')"
      ]
     },
     "execution_count": 91,
     "metadata": {},
     "output_type": "execute_result"
    },
    {
     "data": {
      "image/png": "[encoded data removed]",
      "text/plain": [
       "<Figure size 640x480 with 1 Axes>"
      ]
     },
     "metadata": {},
     "output_type": "display_data"
    }
   ],
   "source": [
    "month_sale.plot(kind='bar')\n",
    "plt.title(\"TOTAL SALES REVENUE\")\n",
    "plt.ylabel(\"Sales\")"
   ]
  },
  {
   "cell_type": "code",
   "execution_count": 92,
   "id": "94b28acc-73e6-4494-92d8-757cc3cfe4a7",
   "metadata": {},
   "outputs": [],
   "source": [
    "#monthly unit sold\n",
    "monthly_unit=df.groupby('Month')['Unit'].sum()"
   ]
  },
  {
   "cell_type": "code",
   "execution_count": 93,
   "id": "494c7d50-ef60-4f67-af74-25925cab800f",
   "metadata": {},
   "outputs": [
    {
     "data": {
      "text/plain": [
       "Month\n",
       "December    54132\n",
       "November    36273\n",
       "October     45716\n",
       "Name: Unit, dtype: int64"
      ]
     },
     "execution_count": 93,
     "metadata": {},
     "output_type": "execute_result"
    }
   ],
   "source": [
    "monthly_unit"
   ]
  },
  {
   "cell_type": "code",
   "execution_count": 94,
   "id": "c3b2ed73-1ee3-48ff-9f26-d912622d54b1",
   "metadata": {},
   "outputs": [
    {
     "data": {
      "text/plain": [
       "<Axes: xlabel='Month'>"
      ]
     },
     "execution_count": 94,
     "metadata": {},
     "output_type": "execute_result"
    },
    {
     "data": {
      "image/png": "[encoded data removed]",
      "text/plain": [
       "<Figure size 640x480 with 1 Axes>"
      ]
     },
     "metadata": {},
     "output_type": "display_data"
    }
   ],
   "source": [
    "monthly_unit.plot(kind='bar')\n"
   ]
  },
  {
   "cell_type": "code",
   "execution_count": 49,
   "id": "34dc9bb5-0aa9-4e66-b279-5a90c99de0ae",
   "metadata": {},
   "outputs": [
    {
     "data": {
      "text/plain": [
       "Text(0, 0.5, 'Sales Revenue')"
      ]
     },
     "execution_count": 49,
     "metadata": {},
     "output_type": "execute_result"
    },
    {
     "data": {
      "image/png": "[encoded data removed]",
      "text/plain": [
       "<Figure size 640x480 with 1 Axes>"
      ]
     },
     "metadata": {},
     "output_type": "display_data"
    }
   ],
   "source": [
    "#Consolidated 3-month sales plot\n",
    "plt.scatter(monthly_data['Date'], monthly_data['Sales'], color='orange', alpha=0.7)\n",
    "plt.title('Daily Sales Revenue (Oct–Dec 2023)', fontsize=14)\n",
    "plt.xlabel('Date')\n",
    "plt.ylabel('Sales Revenue')"
   ]
  },
  {
   "cell_type": "code",
   "execution_count": 50,
   "id": "81ff2205-2701-4c43-b649-a3ddad11062f",
   "metadata": {},
   "outputs": [
    {
     "data": {
      "text/html": [
       "<div>\n",
       "<style scoped>\n",
       "    .dataframe tbody tr th:only-of-type {\n",
       "        vertical-align: middle;\n",
       "    }\n",
       "\n",
       "    .dataframe tbody tr th {\n",
       "        vertical-align: top;\n",
       "    }\n",
       "\n",
       "    .dataframe thead th {\n",
       "        text-align: right;\n",
       "    }\n",
       "</style>\n",
       "<table border=\"1\" class=\"dataframe\">\n",
       "  <thead>\n",
       "    <tr style=\"text-align: right;\">\n",
       "      <th></th>\n",
       "      <th>Unit</th>\n",
       "      <th>Sales</th>\n",
       "    </tr>\n",
       "  </thead>\n",
       "  <tbody>\n",
       "    <tr>\n",
       "      <th>count</th>\n",
       "      <td>7560.000000</td>\n",
       "      <td>7560.000000</td>\n",
       "    </tr>\n",
       "    <tr>\n",
       "      <th>mean</th>\n",
       "      <td>18.005423</td>\n",
       "      <td>45013.558201</td>\n",
       "    </tr>\n",
       "    <tr>\n",
       "      <th>std</th>\n",
       "      <td>12.901403</td>\n",
       "      <td>32253.506944</td>\n",
       "    </tr>\n",
       "    <tr>\n",
       "      <th>min</th>\n",
       "      <td>2.000000</td>\n",
       "      <td>5000.000000</td>\n",
       "    </tr>\n",
       "    <tr>\n",
       "      <th>25%</th>\n",
       "      <td>8.000000</td>\n",
       "      <td>20000.000000</td>\n",
       "    </tr>\n",
       "    <tr>\n",
       "      <th>50%</th>\n",
       "      <td>14.000000</td>\n",
       "      <td>35000.000000</td>\n",
       "    </tr>\n",
       "    <tr>\n",
       "      <th>75%</th>\n",
       "      <td>26.000000</td>\n",
       "      <td>65000.000000</td>\n",
       "    </tr>\n",
       "    <tr>\n",
       "      <th>max</th>\n",
       "      <td>65.000000</td>\n",
       "      <td>162500.000000</td>\n",
       "    </tr>\n",
       "  </tbody>\n",
       "</table>\n",
       "</div>"
      ],
      "text/plain": [
       "              Unit          Sales\n",
       "count  7560.000000    7560.000000\n",
       "mean     18.005423   45013.558201\n",
       "std      12.901403   32253.506944\n",
       "min       2.000000    5000.000000\n",
       "25%       8.000000   20000.000000\n",
       "50%      14.000000   35000.000000\n",
       "75%      26.000000   65000.000000\n",
       "max      65.000000  162500.000000"
      ]
     },
     "execution_count": 50,
     "metadata": {},
     "output_type": "execute_result"
    }
   ],
   "source": [
    "#Obtain a Comprehensive Snapshot\n",
    "df.describe()\n"
   ]
  },
  {
   "cell_type": "code",
   "execution_count": 51,
   "id": "9a4cfcaf-ab60-4f01-b383-c449b9ac4fbe",
   "metadata": {},
   "outputs": [
    {
     "name": "stdout",
     "output_type": "stream",
     "text": [
      "total unit sold and sale by month :\n",
      "         Date   Unit      Sales\n",
      "0 2020-10-31  45716  114290000\n",
      "1 2020-11-30  36273   90682500\n",
      "2 2020-12-31  54132  135330000\n"
     ]
    }
   ],
   "source": [
    "print(f\"total unit sold and sale by month :\\n {monthly_data}\")"
   ]
  },
  {
   "cell_type": "code",
   "execution_count": 52,
   "id": "2ba75f6a-1131-4b9d-ba44-60c58cbaaad5",
   "metadata": {},
   "outputs": [
    {
     "name": "stdout",
     "output_type": "stream",
     "text": [
      "highest sale in octomber month is:\n",
      "  Time      Morning\n",
      "State          TX\n",
      "Group       Women\n",
      "Unit           50\n",
      "Sales      125000\n",
      "dtype: object\n"
     ]
    }
   ],
   "source": [
    "#highest and lowest value by month on day\n",
    "#octomber month\n",
    "highest_sale=octomber_df.max()\n",
    "print(f\"highest sale in octomber month is:\\n  {highest_sale}\")\n"
   ]
  },
  {
   "cell_type": "code",
   "execution_count": 53,
   "id": "6145fd18-6034-4cec-91b4-4b8407f238fe",
   "metadata": {},
   "outputs": [
    {
     "name": "stdout",
     "output_type": "stream",
     "text": [
      "lowest sale in octomber month is :\n",
      " Time      Afternoon\n",
      "State            WA\n",
      "Group          Kids\n",
      "Unit              3\n",
      "Sales          7500\n",
      "dtype: object\n"
     ]
    }
   ],
   "source": [
    "lowest_sale=octomber_df.min()\n",
    "print(f\"lowest sale in octomber month is :\\n {lowest_sale}\")"
   ]
  },
  {
   "cell_type": "code",
   "execution_count": 54,
   "id": "c4860470-0300-4b39-a1ba-cce0bef391b2",
   "metadata": {},
   "outputs": [
    {
     "name": "stdout",
     "output_type": "stream",
     "text": [
      "highest sale in november is:\n",
      "  Time      Morning\n",
      "State          TX\n",
      "Group       Women\n",
      "Unit           45\n",
      "Sales      112500\n",
      "dtype: object\n"
     ]
    }
   ],
   "source": [
    "#november month\n",
    "highest_sale=nov_df.max()\n",
    "print(f\"highest sale in november is:\\n  {highest_sale}\")\n"
   ]
  },
  {
   "cell_type": "code",
   "execution_count": 55,
   "id": "428537b1-cc4f-48d7-a834-92c3f76a83e6",
   "metadata": {},
   "outputs": [
    {
     "name": "stdout",
     "output_type": "stream",
     "text": [
      "lowest sale in november month is :\n",
      " Time      Afternoon\n",
      "State            WA\n",
      "Group          Kids\n",
      "Unit              2\n",
      "Sales          5000\n",
      "dtype: object\n"
     ]
    }
   ],
   "source": [
    "#lowest sale\n",
    "lowest_sale=nov_df.min()\n",
    "print(f\"lowest sale in november month is :\\n {lowest_sale}\")"
   ]
  },
  {
   "cell_type": "code",
   "execution_count": 56,
   "id": "191fee7f-b139-46da-8d80-d41c2fd3b113",
   "metadata": {},
   "outputs": [
    {
     "name": "stdout",
     "output_type": "stream",
     "text": [
      "highest december sale is:\n",
      "  Time      Morning\n",
      "State          TX\n",
      "Group       Women\n",
      "Unit           65\n",
      "Sales      162500\n",
      "dtype: object\n"
     ]
    }
   ],
   "source": [
    "#december month\n",
    "highest_sale=dec_df.max()\n",
    "print(f\"highest december sale is:\\n  {highest_sale}\")\n"
   ]
  },
  {
   "cell_type": "code",
   "execution_count": 57,
   "id": "cf607957-efa2-4fab-aeb7-0810f7d4a470",
   "metadata": {},
   "outputs": [
    {
     "name": "stdout",
     "output_type": "stream",
     "text": [
      "lowest december sale is:\n",
      "  Time      Afternoon\n",
      "State            WA\n",
      "Group          Kids\n",
      "Unit              5\n",
      "Sales         12500\n",
      "dtype: object\n"
     ]
    }
   ],
   "source": [
    "highest_sale=dec_df.min()\n",
    "print(f\"lowest december sale is:\\n  {highest_sale}\")\n"
   ]
  },
  {
   "cell_type": "code",
   "execution_count": 58,
   "id": "da5e2790-5a64-4c6c-833b-5f4c89837473",
   "metadata": {},
   "outputs": [],
   "source": [
    "#total average sale is\n",
    "average=df['Sales'].mean()\n"
   ]
  },
  {
   "cell_type": "code",
   "execution_count": 59,
   "id": "971aaa66-4055-4ae7-aa4e-2240f7b01dec",
   "metadata": {},
   "outputs": [
    {
     "data": {
      "text/plain": [
       "45013.5582010582"
      ]
     },
     "execution_count": 59,
     "metadata": {},
     "output_type": "execute_result"
    }
   ],
   "source": [
    "average"
   ]
  },
  {
   "cell_type": "code",
   "execution_count": 60,
   "id": "3fb7e63c-917f-4781-8dd4-9837d1d86124",
   "metadata": {},
   "outputs": [
    {
     "data": {
      "text/plain": [
       "array([' WA', 'AZ', 'FL', 'KY', 'CA', 'NY', 'TX'], dtype=object)"
      ]
     },
     "execution_count": 60,
     "metadata": {},
     "output_type": "execute_result"
    }
   ],
   "source": [
    "#Analyze Statewise Sales in the United States\n",
    "df['State'].unique()"
   ]
  },
  {
   "cell_type": "code",
   "execution_count": 61,
   "id": "0bf1c0a6-512e-48d2-848e-7166bbfd1fd3",
   "metadata": {},
   "outputs": [
    {
     "data": {
      "text/plain": [
       "State\n",
       "KY     105565000\n",
       "NY      74970000\n",
       "FL      58857500\n",
       "CA      33417500\n",
       "TX      22760000\n",
       "AZ      22580000\n",
       " WA     22152500\n",
       "Name: Sales, dtype: int64"
      ]
     },
     "execution_count": 61,
     "metadata": {},
     "output_type": "execute_result"
    }
   ],
   "source": [
    "state_sale=df.groupby(['State'])['Sales'].sum()\n",
    "state_sale.sort_values(ascending=False)"
   ]
  },
  {
   "cell_type": "code",
   "execution_count": 62,
   "id": "6ba9d48c-ee9a-4db9-8f12-a143ae25b2cb",
   "metadata": {},
   "outputs": [
    {
     "data": {
      "text/plain": [
       "Text(0, 0.5, 'Sales')"
      ]
     },
     "execution_count": 62,
     "metadata": {},
     "output_type": "execute_result"
    },
    {
     "data": {
      "image/png": "[encoded data removed]",
      "text/plain": [
       "<Figure size 640x480 with 1 Axes>"
      ]
     },
     "metadata": {},
     "output_type": "display_data"
    }
   ],
   "source": [
    "#bar chart\n",
    "state_sale.plot(kind='bar')\n",
    "plt.title(\"TOTAL SALES BY STATES IN UNITED STATE\")\n",
    "plt.ylabel(\"Sales\")"
   ]
  },
  {
   "cell_type": "code",
   "execution_count": 63,
   "id": "e22fe677-03dd-442e-9ed7-d3fe7665fd7a",
   "metadata": {},
   "outputs": [
    {
     "data": {
      "text/html": [
       "<div>\n",
       "<style scoped>\n",
       "    .dataframe tbody tr th:only-of-type {\n",
       "        vertical-align: middle;\n",
       "    }\n",
       "\n",
       "    .dataframe tbody tr th {\n",
       "        vertical-align: top;\n",
       "    }\n",
       "\n",
       "    .dataframe thead th {\n",
       "        text-align: right;\n",
       "    }\n",
       "</style>\n",
       "<table border=\"1\" class=\"dataframe\">\n",
       "  <thead>\n",
       "    <tr style=\"text-align: right;\">\n",
       "      <th></th>\n",
       "      <th>Time</th>\n",
       "      <th>State</th>\n",
       "      <th>Group</th>\n",
       "      <th>Unit</th>\n",
       "      <th>Sales</th>\n",
       "      <th>Month</th>\n",
       "    </tr>\n",
       "    <tr>\n",
       "      <th>Date</th>\n",
       "      <th></th>\n",
       "      <th></th>\n",
       "      <th></th>\n",
       "      <th></th>\n",
       "      <th></th>\n",
       "      <th></th>\n",
       "    </tr>\n",
       "  </thead>\n",
       "  <tbody>\n",
       "    <tr>\n",
       "      <th>2020-10-01</th>\n",
       "      <td>Morning</td>\n",
       "      <td>WA</td>\n",
       "      <td>Kids</td>\n",
       "      <td>8</td>\n",
       "      <td>20000</td>\n",
       "      <td>October</td>\n",
       "    </tr>\n",
       "    <tr>\n",
       "      <th>2020-10-01</th>\n",
       "      <td>Morning</td>\n",
       "      <td>WA</td>\n",
       "      <td>Men</td>\n",
       "      <td>8</td>\n",
       "      <td>20000</td>\n",
       "      <td>October</td>\n",
       "    </tr>\n",
       "    <tr>\n",
       "      <th>2020-10-01</th>\n",
       "      <td>Morning</td>\n",
       "      <td>WA</td>\n",
       "      <td>Women</td>\n",
       "      <td>4</td>\n",
       "      <td>10000</td>\n",
       "      <td>October</td>\n",
       "    </tr>\n",
       "    <tr>\n",
       "      <th>2020-10-01</th>\n",
       "      <td>Morning</td>\n",
       "      <td>WA</td>\n",
       "      <td>Seniors</td>\n",
       "      <td>15</td>\n",
       "      <td>37500</td>\n",
       "      <td>October</td>\n",
       "    </tr>\n",
       "    <tr>\n",
       "      <th>2020-10-01</th>\n",
       "      <td>Afternoon</td>\n",
       "      <td>WA</td>\n",
       "      <td>Kids</td>\n",
       "      <td>3</td>\n",
       "      <td>7500</td>\n",
       "      <td>October</td>\n",
       "    </tr>\n",
       "    <tr>\n",
       "      <th>...</th>\n",
       "      <td>...</td>\n",
       "      <td>...</td>\n",
       "      <td>...</td>\n",
       "      <td>...</td>\n",
       "      <td>...</td>\n",
       "      <td>...</td>\n",
       "    </tr>\n",
       "    <tr>\n",
       "      <th>2020-12-30</th>\n",
       "      <td>Afternoon</td>\n",
       "      <td>TX</td>\n",
       "      <td>Seniors</td>\n",
       "      <td>14</td>\n",
       "      <td>35000</td>\n",
       "      <td>December</td>\n",
       "    </tr>\n",
       "    <tr>\n",
       "      <th>2020-12-30</th>\n",
       "      <td>Evening</td>\n",
       "      <td>TX</td>\n",
       "      <td>Kids</td>\n",
       "      <td>15</td>\n",
       "      <td>37500</td>\n",
       "      <td>December</td>\n",
       "    </tr>\n",
       "    <tr>\n",
       "      <th>2020-12-30</th>\n",
       "      <td>Evening</td>\n",
       "      <td>TX</td>\n",
       "      <td>Men</td>\n",
       "      <td>15</td>\n",
       "      <td>37500</td>\n",
       "      <td>December</td>\n",
       "    </tr>\n",
       "    <tr>\n",
       "      <th>2020-12-30</th>\n",
       "      <td>Evening</td>\n",
       "      <td>TX</td>\n",
       "      <td>Women</td>\n",
       "      <td>11</td>\n",
       "      <td>27500</td>\n",
       "      <td>December</td>\n",
       "    </tr>\n",
       "    <tr>\n",
       "      <th>2020-12-30</th>\n",
       "      <td>Evening</td>\n",
       "      <td>TX</td>\n",
       "      <td>Seniors</td>\n",
       "      <td>13</td>\n",
       "      <td>32500</td>\n",
       "      <td>December</td>\n",
       "    </tr>\n",
       "  </tbody>\n",
       "</table>\n",
       "<p>7560 rows × 6 columns</p>\n",
       "</div>"
      ],
      "text/plain": [
       "                  Time State     Group  Unit  Sales     Month\n",
       "Date                                                         \n",
       "2020-10-01     Morning    WA      Kids     8  20000   October\n",
       "2020-10-01     Morning    WA       Men     8  20000   October\n",
       "2020-10-01     Morning    WA     Women     4  10000   October\n",
       "2020-10-01     Morning    WA   Seniors    15  37500   October\n",
       "2020-10-01   Afternoon    WA      Kids     3   7500   October\n",
       "...                ...   ...       ...   ...    ...       ...\n",
       "2020-12-30   Afternoon    TX   Seniors    14  35000  December\n",
       "2020-12-30     Evening    TX      Kids    15  37500  December\n",
       "2020-12-30     Evening    TX       Men    15  37500  December\n",
       "2020-12-30     Evening    TX     Women    11  27500  December\n",
       "2020-12-30     Evening    TX   Seniors    13  32500  December\n",
       "\n",
       "[7560 rows x 6 columns]"
      ]
     },
     "execution_count": 63,
     "metadata": {},
     "output_type": "execute_result"
    }
   ],
   "source": [
    "#Conduct Groupwise Analysis\n",
    "df"
   ]
  },
  {
   "cell_type": "code",
   "execution_count": 66,
   "id": "e2da4769-743d-4233-8575-775d0d1744da",
   "metadata": {},
   "outputs": [
    {
     "data": {
      "text/html": [
       "<div>\n",
       "<style scoped>\n",
       "    .dataframe tbody tr th:only-of-type {\n",
       "        vertical-align: middle;\n",
       "    }\n",
       "\n",
       "    .dataframe tbody tr th {\n",
       "        vertical-align: top;\n",
       "    }\n",
       "\n",
       "    .dataframe thead th {\n",
       "        text-align: right;\n",
       "    }\n",
       "</style>\n",
       "<table border=\"1\" class=\"dataframe\">\n",
       "  <thead>\n",
       "    <tr style=\"text-align: right;\">\n",
       "      <th></th>\n",
       "      <th>Sales</th>\n",
       "      <th>Unit</th>\n",
       "    </tr>\n",
       "    <tr>\n",
       "      <th>Time</th>\n",
       "      <th></th>\n",
       "      <th></th>\n",
       "    </tr>\n",
       "  </thead>\n",
       "  <tbody>\n",
       "    <tr>\n",
       "      <th>Morning</th>\n",
       "      <td>114207500</td>\n",
       "      <td>45683</td>\n",
       "    </tr>\n",
       "    <tr>\n",
       "      <th>Afternoon</th>\n",
       "      <td>114007500</td>\n",
       "      <td>45603</td>\n",
       "    </tr>\n",
       "    <tr>\n",
       "      <th>Evening</th>\n",
       "      <td>112087500</td>\n",
       "      <td>44835</td>\n",
       "    </tr>\n",
       "  </tbody>\n",
       "</table>\n",
       "</div>"
      ],
      "text/plain": [
       "               Sales   Unit\n",
       "Time                       \n",
       "Morning    114207500  45683\n",
       "Afternoon  114007500  45603\n",
       "Evening    112087500  44835"
      ]
     },
     "execution_count": 66,
     "metadata": {},
     "output_type": "execute_result"
    }
   ],
   "source": [
    "#1.time_analysis\n",
    "timewise=df.groupby('Time')[['Sales','Unit']].sum()\n",
    "timewise.sort_values(by='Sales',ascending=False)"
   ]
  },
  {
   "cell_type": "code",
   "execution_count": 67,
   "id": "40dd12ac-0650-477d-bb24-90a01051cbdf",
   "metadata": {},
   "outputs": [],
   "source": [
    "#2.group analysis\n",
    "group_wise=df.groupby('Group')[['Sales','Unit']].sum()"
   ]
  },
  {
   "cell_type": "code",
   "execution_count": 68,
   "id": "ef80e793-d7be-46bb-b6d1-f04ac7e17130",
   "metadata": {},
   "outputs": [
    {
     "data": {
      "text/html": [
       "<div>\n",
       "<style scoped>\n",
       "    .dataframe tbody tr th:only-of-type {\n",
       "        vertical-align: middle;\n",
       "    }\n",
       "\n",
       "    .dataframe tbody tr th {\n",
       "        vertical-align: top;\n",
       "    }\n",
       "\n",
       "    .dataframe thead th {\n",
       "        text-align: right;\n",
       "    }\n",
       "</style>\n",
       "<table border=\"1\" class=\"dataframe\">\n",
       "  <thead>\n",
       "    <tr style=\"text-align: right;\">\n",
       "      <th></th>\n",
       "      <th>Sales</th>\n",
       "      <th>Unit</th>\n",
       "    </tr>\n",
       "    <tr>\n",
       "      <th>Group</th>\n",
       "      <th></th>\n",
       "      <th></th>\n",
       "    </tr>\n",
       "  </thead>\n",
       "  <tbody>\n",
       "    <tr>\n",
       "      <th>Men</th>\n",
       "      <td>85750000</td>\n",
       "      <td>34300</td>\n",
       "    </tr>\n",
       "    <tr>\n",
       "      <th>Women</th>\n",
       "      <td>85442500</td>\n",
       "      <td>34177</td>\n",
       "    </tr>\n",
       "    <tr>\n",
       "      <th>Kids</th>\n",
       "      <td>85072500</td>\n",
       "      <td>34029</td>\n",
       "    </tr>\n",
       "    <tr>\n",
       "      <th>Seniors</th>\n",
       "      <td>84037500</td>\n",
       "      <td>33615</td>\n",
       "    </tr>\n",
       "  </tbody>\n",
       "</table>\n",
       "</div>"
      ],
      "text/plain": [
       "            Sales   Unit\n",
       "Group                   \n",
       "Men      85750000  34300\n",
       "Women    85442500  34177\n",
       "Kids     85072500  34029\n",
       "Seniors  84037500  33615"
      ]
     },
     "execution_count": 68,
     "metadata": {},
     "output_type": "execute_result"
    }
   ],
   "source": [
    "group_wise.sort_values(by='Sales',ascending=False)"
   ]
  },
  {
   "cell_type": "code",
   "execution_count": 70,
   "id": "1ad4c3ee-c591-4ce5-a3b9-aa24266c1797",
   "metadata": {},
   "outputs": [
    {
     "data": {
      "text/html": [
       "<div>\n",
       "<style scoped>\n",
       "    .dataframe tbody tr th:only-of-type {\n",
       "        vertical-align: middle;\n",
       "    }\n",
       "\n",
       "    .dataframe tbody tr th {\n",
       "        vertical-align: top;\n",
       "    }\n",
       "\n",
       "    .dataframe thead th {\n",
       "        text-align: right;\n",
       "    }\n",
       "</style>\n",
       "<table border=\"1\" class=\"dataframe\">\n",
       "  <thead>\n",
       "    <tr style=\"text-align: right;\">\n",
       "      <th></th>\n",
       "      <th>Time</th>\n",
       "      <th>State</th>\n",
       "      <th>Group</th>\n",
       "      <th>Unit</th>\n",
       "      <th>Sales</th>\n",
       "      <th>Month</th>\n",
       "    </tr>\n",
       "    <tr>\n",
       "      <th>Date</th>\n",
       "      <th></th>\n",
       "      <th></th>\n",
       "      <th></th>\n",
       "      <th></th>\n",
       "      <th></th>\n",
       "      <th></th>\n",
       "    </tr>\n",
       "  </thead>\n",
       "  <tbody>\n",
       "    <tr>\n",
       "      <th>2020-10-01</th>\n",
       "      <td>Morning</td>\n",
       "      <td>WA</td>\n",
       "      <td>Kids</td>\n",
       "      <td>8</td>\n",
       "      <td>20000</td>\n",
       "      <td>October</td>\n",
       "    </tr>\n",
       "    <tr>\n",
       "      <th>2020-10-01</th>\n",
       "      <td>Morning</td>\n",
       "      <td>WA</td>\n",
       "      <td>Men</td>\n",
       "      <td>8</td>\n",
       "      <td>20000</td>\n",
       "      <td>October</td>\n",
       "    </tr>\n",
       "    <tr>\n",
       "      <th>2020-10-01</th>\n",
       "      <td>Morning</td>\n",
       "      <td>WA</td>\n",
       "      <td>Women</td>\n",
       "      <td>4</td>\n",
       "      <td>10000</td>\n",
       "      <td>October</td>\n",
       "    </tr>\n",
       "    <tr>\n",
       "      <th>2020-10-01</th>\n",
       "      <td>Morning</td>\n",
       "      <td>WA</td>\n",
       "      <td>Seniors</td>\n",
       "      <td>15</td>\n",
       "      <td>37500</td>\n",
       "      <td>October</td>\n",
       "    </tr>\n",
       "    <tr>\n",
       "      <th>2020-10-01</th>\n",
       "      <td>Afternoon</td>\n",
       "      <td>WA</td>\n",
       "      <td>Kids</td>\n",
       "      <td>3</td>\n",
       "      <td>7500</td>\n",
       "      <td>October</td>\n",
       "    </tr>\n",
       "    <tr>\n",
       "      <th>...</th>\n",
       "      <td>...</td>\n",
       "      <td>...</td>\n",
       "      <td>...</td>\n",
       "      <td>...</td>\n",
       "      <td>...</td>\n",
       "      <td>...</td>\n",
       "    </tr>\n",
       "    <tr>\n",
       "      <th>2020-12-30</th>\n",
       "      <td>Afternoon</td>\n",
       "      <td>TX</td>\n",
       "      <td>Seniors</td>\n",
       "      <td>14</td>\n",
       "      <td>35000</td>\n",
       "      <td>December</td>\n",
       "    </tr>\n",
       "    <tr>\n",
       "      <th>2020-12-30</th>\n",
       "      <td>Evening</td>\n",
       "      <td>TX</td>\n",
       "      <td>Kids</td>\n",
       "      <td>15</td>\n",
       "      <td>37500</td>\n",
       "      <td>December</td>\n",
       "    </tr>\n",
       "    <tr>\n",
       "      <th>2020-12-30</th>\n",
       "      <td>Evening</td>\n",
       "      <td>TX</td>\n",
       "      <td>Men</td>\n",
       "      <td>15</td>\n",
       "      <td>37500</td>\n",
       "      <td>December</td>\n",
       "    </tr>\n",
       "    <tr>\n",
       "      <th>2020-12-30</th>\n",
       "      <td>Evening</td>\n",
       "      <td>TX</td>\n",
       "      <td>Women</td>\n",
       "      <td>11</td>\n",
       "      <td>27500</td>\n",
       "      <td>December</td>\n",
       "    </tr>\n",
       "    <tr>\n",
       "      <th>2020-12-30</th>\n",
       "      <td>Evening</td>\n",
       "      <td>TX</td>\n",
       "      <td>Seniors</td>\n",
       "      <td>13</td>\n",
       "      <td>32500</td>\n",
       "      <td>December</td>\n",
       "    </tr>\n",
       "  </tbody>\n",
       "</table>\n",
       "<p>7560 rows × 6 columns</p>\n",
       "</div>"
      ],
      "text/plain": [
       "                  Time State     Group  Unit  Sales     Month\n",
       "Date                                                         \n",
       "2020-10-01     Morning    WA      Kids     8  20000   October\n",
       "2020-10-01     Morning    WA       Men     8  20000   October\n",
       "2020-10-01     Morning    WA     Women     4  10000   October\n",
       "2020-10-01     Morning    WA   Seniors    15  37500   October\n",
       "2020-10-01   Afternoon    WA      Kids     3   7500   October\n",
       "...                ...   ...       ...   ...    ...       ...\n",
       "2020-12-30   Afternoon    TX   Seniors    14  35000  December\n",
       "2020-12-30     Evening    TX      Kids    15  37500  December\n",
       "2020-12-30     Evening    TX       Men    15  37500  December\n",
       "2020-12-30     Evening    TX     Women    11  27500  December\n",
       "2020-12-30     Evening    TX   Seniors    13  32500  December\n",
       "\n",
       "[7560 rows x 6 columns]"
      ]
     },
     "execution_count": 70,
     "metadata": {},
     "output_type": "execute_result"
    }
   ],
   "source": [
    "#Explore Timewise Analysis\n",
    "df"
   ]
  },
  {
   "cell_type": "code",
   "execution_count": 71,
   "id": "07d828ee-ab4b-459e-a05a-71246d199657",
   "metadata": {},
   "outputs": [],
   "source": [
    "month_sale=df.groupby('Month')['Sales'].sum()"
   ]
  },
  {
   "cell_type": "code",
   "execution_count": 77,
   "id": "2957dd48-3a28-4a88-8dc5-b5db30de6090",
   "metadata": {},
   "outputs": [
    {
     "data": {
      "text/plain": [
       "Month\n",
       "December    135330000\n",
       "November     90682500\n",
       "October     114290000\n",
       "Name: Sales, dtype: int64"
      ]
     },
     "execution_count": 77,
     "metadata": {},
     "output_type": "execute_result"
    }
   ],
   "source": [
    "month_sale"
   ]
  },
  {
   "cell_type": "code",
   "execution_count": 81,
   "id": "53e795e5-61fe-4db1-990e-b0e88511a5fd",
   "metadata": {},
   "outputs": [
    {
     "data": {
      "text/plain": [
       "Text(0, 0.5, 'Sales')"
      ]
     },
     "execution_count": 81,
     "metadata": {},
     "output_type": "execute_result"
    },
    {
     "data": {
      "image/png": "[encoded data removed]",
      "text/plain": [
       "<Figure size 640x480 with 1 Axes>"
      ]
     },
     "metadata": {},
     "output_type": "display_data"
    }
   ],
   "source": [
    "month_sale.plot()\n",
    "plt.title(\"SALES BY MONTH-2020\")\n",
    "plt.ylabel(\"Sales\")"
   ]
  },
  {
   "cell_type": "code",
   "execution_count": null,
   "id": "90c6cd65-a791-4f0f-b38f-b53f7cd690fc",
   "metadata": {},
   "outputs": [],
   "source": []
  }
 ],
 "metadata": {
  "kernelspec": {
   "display_name": "Python 3 (ipykernel)",
   "language": "python",
   "name": "python3"
  },
  "language_info": {
   "codemirror_mode": {
    "name": "ipython",
    "version": 3
   },
   "file_extension": ".py",
   "mimetype": "text/x-python",
   "name": "python",
   "nbconvert_exporter": "python",
   "pygments_lexer": "ipython3",
   "version": "3.12.7"
  }
 },
 "nbformat": 4,
 "nbformat_minor": 5
}
