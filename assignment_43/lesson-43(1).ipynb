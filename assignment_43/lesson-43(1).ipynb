{
 "cells": [
  {
   "cell_type": "code",
   "execution_count": 1,
   "id": "c5353c10-e0fc-4d83-8411-f8ca7c9da85d",
   "metadata": {},
   "outputs": [],
   "source": [
    "import numpy as np"
   ]
  },
  {
   "cell_type": "code",
   "execution_count": 4,
   "id": "f4173176-4559-483b-8a23-3441e7998899",
   "metadata": {},
   "outputs": [],
   "source": [
    "weather_data = np.array([\n",
    "[\"2023-07-01\", 30, 60, 0.1],\n",
    "[\"2023-07-02\", 31, 62, 0.2],\n",
    "[\"2023-07-03\", 29, 65, 0.0],\n",
    "[\"2023-07-04\", 33, 68, 0.5],\n",
    "[\"2023-07-05\", 34, 70, 0.3],\n",
    "[\"2023-07-06\", 32, 63, 0.1],\n",
    "[\"2023-07-07\", 30, 61, 0.0]])"
   ]
  },
  {
   "cell_type": "code",
   "execution_count": 5,
   "id": "6ff6a027-9fbf-4af1-bc47-0032f8cd6917",
   "metadata": {},
   "outputs": [
    {
     "data": {
      "text/plain": [
       "array([['2023-07-01', '30', '60', '0.1'],\n",
       "       ['2023-07-02', '31', '62', '0.2'],\n",
       "       ['2023-07-03', '29', '65', '0.0'],\n",
       "       ['2023-07-04', '33', '68', '0.5'],\n",
       "       ['2023-07-05', '34', '70', '0.3'],\n",
       "       ['2023-07-06', '32', '63', '0.1'],\n",
       "       ['2023-07-07', '30', '61', '0.0']], dtype='<U32')"
      ]
     },
     "execution_count": 5,
     "metadata": {},
     "output_type": "execute_result"
    }
   ],
   "source": [
    "weather_data"
   ]
  },
  {
   "cell_type": "code",
   "execution_count": 7,
   "id": "a2811962-8736-49f0-85bc-9f48a764764e",
   "metadata": {},
   "outputs": [
    {
     "data": {
      "text/plain": [
       "array(['2023-07-01', '2023-07-02', '2023-07-03', '2023-07-04',\n",
       "       '2023-07-05', '2023-07-06', '2023-07-07'], dtype='<U32')"
      ]
     },
     "execution_count": 7,
     "metadata": {},
     "output_type": "execute_result"
    }
   ],
   "source": [
    "dates=weather_data[ : ,0]\n",
    "dates"
   ]
  },
  {
   "cell_type": "code",
   "execution_count": 31,
   "id": "e75ccaab-3be1-4df4-820c-208019a2bd11",
   "metadata": {},
   "outputs": [
    {
     "data": {
      "text/plain": [
       "array([30., 31., 29., 33., 34., 32., 30.])"
      ]
     },
     "execution_count": 31,
     "metadata": {},
     "output_type": "execute_result"
    }
   ],
   "source": [
    "temperature=weather_data[ : ,1].astype(float)\n",
    "temperature"
   ]
  },
  {
   "cell_type": "code",
   "execution_count": 10,
   "id": "3231c108-6159-4968-89d5-ca59dc75c05d",
   "metadata": {},
   "outputs": [
    {
     "data": {
      "text/plain": [
       "array(['60', '62', '65', '68', '70', '63', '61'], dtype='<U32')"
      ]
     },
     "execution_count": 10,
     "metadata": {},
     "output_type": "execute_result"
    }
   ],
   "source": [
    "humidity=weather_data[ : ,2]\n",
    "humidity"
   ]
  },
  {
   "cell_type": "code",
   "execution_count": 53,
   "id": "a28c3401-7ec6-45ec-a80a-874438f95d5e",
   "metadata": {},
   "outputs": [
    {
     "data": {
      "text/plain": [
       "array([0.1, 0.2, 0. , 0.5, 0.3, 0.1, 0. ])"
      ]
     },
     "execution_count": 53,
     "metadata": {},
     "output_type": "execute_result"
    }
   ],
   "source": [
    "precipitation=weather_data[ : ,3].astype(float)\n",
    "precipitation"
   ]
  },
  {
   "cell_type": "code",
   "execution_count": 114,
   "id": "eed92250-7412-498b-96bd-4131a17859d3",
   "metadata": {},
   "outputs": [
    {
     "data": {
      "text/plain": [
       "31.29"
      ]
     },
     "execution_count": 114,
     "metadata": {},
     "output_type": "execute_result"
    }
   ],
   "source": [
    "#Calculate the average temperature for the entire dataset to provide an overall understanding of the weather conditions\n",
    "avg_temperature=np.mean(temperature)\n",
    "final_avg_temp = round(avg_temperature,2)\n",
    "final_avg_temp"
   ]
  },
  {
   "cell_type": "code",
   "execution_count": 47,
   "id": "b1d42d26-af96-4cbe-a2d9-9a3ef3f55cd0",
   "metadata": {},
   "outputs": [
    {
     "data": {
      "text/plain": [
       "'2023-07-05'"
      ]
     },
     "execution_count": 47,
     "metadata": {},
     "output_type": "execute_result"
    }
   ],
   "source": [
    "#Find the day highest temperature\n",
    "max_index=np.argmax(temperature)\n",
    "max_index\n",
    "temp_day=dates[max_index]\n",
    "temp_day\n"
   ]
  },
  {
   "cell_type": "code",
   "execution_count": 48,
   "id": "2e38e8f1-1d7e-4295-95b9-448b3d6f6e6d",
   "metadata": {},
   "outputs": [
    {
     "data": {
      "text/plain": [
       "34.0"
      ]
     },
     "execution_count": 48,
     "metadata": {},
     "output_type": "execute_result"
    }
   ],
   "source": [
    "#highest temperature during week\n",
    "temp_value=temperature[max_index]\n",
    "temp_value"
   ]
  },
  {
   "cell_type": "code",
   "execution_count": 50,
   "id": "d0e74fbc-c657-4846-b384-fa4ab9d23102",
   "metadata": {},
   "outputs": [
    {
     "data": {
      "text/plain": [
       "array([ 1., -2.,  4.,  1., -2., -2.])"
      ]
     },
     "execution_count": 50,
     "metadata": {},
     "output_type": "execute_result"
    }
   ],
   "source": [
    "#Compute the temperature fluctuations over time to analyze the variability in daily temperatures\n",
    "diff_temperature=np.diff(temperature)\n",
    "diff_temperature"
   ]
  },
  {
   "cell_type": "code",
   "execution_count": 62,
   "id": "433e9528-9ae5-4144-953f-df3e5b3f66a1",
   "metadata": {},
   "outputs": [
    {
     "data": {
      "text/plain": [
       "array(['2023-07-04', '2023-07-05'], dtype='<U32')"
      ]
     },
     "execution_count": 62,
     "metadata": {},
     "output_type": "execute_result"
    }
   ],
   "source": [
    "#Identify days with high precipitation (precipitation above 0.2 inches) to highlight weather events with significant rainfall\n",
    "high_precipitation=np.where(precipitation>0.2)\n",
    "high_precipitation\n",
    "days=dates[high_precipitation]\n",
    "days"
   ]
  },
  {
   "cell_type": "code",
   "execution_count": 77,
   "id": "3a7e294d-fba1-4ed8-b5a8-d538f4255a23",
   "metadata": {},
   "outputs": [
    {
     "data": {
      "text/plain": [
       "69.0"
      ]
     },
     "execution_count": 77,
     "metadata": {},
     "output_type": "execute_result"
    }
   ],
   "source": [
    "#Calculate the average humidity for days with high precipitation to understand humidity levels during rainy periods\n",
    "avg_humidity= (humidity[high_precipitation])\n",
    "avg_humidity\n",
    "avg_humidity1= avg_humidity.astype(float)\n",
    "final_result=np.mean(avg_humidity1)\n",
    "final_result\n"
   ]
  },
  {
   "cell_type": "code",
   "execution_count": 118,
   "id": "2b24d136-54f1-4d0d-b9ff-a2095149fb27",
   "metadata": {},
   "outputs": [
    {
     "data": {
      "text/plain": [
       "1.2"
      ]
     },
     "execution_count": 118,
     "metadata": {},
     "output_type": "execute_result"
    }
   ],
   "source": [
    "#Calculate the total precipitation for the entire dataset to quantify the overall rainfall experienced during the week\n",
    "total_precipitation=np.sum(precipitation)\n",
    "final_total_precipitation=round(total_precipitation,2)\n",
    "final_total_precipitation"
   ]
  },
  {
   "cell_type": "code",
   "execution_count": 86,
   "id": "be456a6c-e33f-4692-bf13-13a501120d2b",
   "metadata": {},
   "outputs": [
    {
     "data": {
      "text/plain": [
       "'2023-07-03'"
      ]
     },
     "execution_count": 86,
     "metadata": {},
     "output_type": "execute_result"
    }
   ],
   "source": [
    "#Find the day with the lowest temperature\n",
    "min_ind=np.argmin(temperature)\n",
    "min_ind\n",
    "day=dates[min_ind]\n",
    "day"
   ]
  },
  {
   "cell_type": "code",
   "execution_count": 127,
   "id": "4d574217-0f12-4ea2-b5ac-157c1854669c",
   "metadata": {},
   "outputs": [
    {
     "data": {
      "text/plain": [
       "4"
      ]
     },
     "execution_count": 127,
     "metadata": {},
     "output_type": "execute_result"
    }
   ],
   "source": [
    "#Filter data for summer days (temperature above 30 degrees Celsius) to analyze specific hot weather patterns\n",
    "day=np.where(temperature>30)\n",
    "day\n",
    "summerday=dates[day]\n",
    "summerday\n",
    "total_summerday=len(summerday)\n",
    "total_summerday"
   ]
  },
  {
   "cell_type": "code",
   "execution_count": 94,
   "id": "47eb1c64-f4b7-443a-a5e0-1ce50b8490eb",
   "metadata": {},
   "outputs": [
    {
     "data": {
      "text/plain": [
       "32.5"
      ]
     },
     "execution_count": 94,
     "metadata": {},
     "output_type": "execute_result"
    }
   ],
   "source": [
    "#Calculate the average temperature for summer days to provide insights into the temperature during the summer period\n",
    "avg_summer_temp=np.mean(temperature[day])\n",
    "avg_summer_temp"
   ]
  },
  {
   "cell_type": "code",
   "execution_count": 133,
   "id": "065a730b-dba0-43bb-ab0f-09e97280f8db",
   "metadata": {},
   "outputs": [
    {
     "data": {
      "text/plain": [
       "2"
      ]
     },
     "execution_count": 133,
     "metadata": {},
     "output_type": "execute_result"
    }
   ],
   "source": [
    "#Count the number of days with no precipitation to understand the frequency of dry days\n",
    "days=np.sum(precipitation == 0)\n",
    "days"
   ]
  },
  {
   "cell_type": "code",
   "execution_count": 98,
   "id": "201803f9-827c-486c-9d9c-d7e358093776",
   "metadata": {},
   "outputs": [],
   "source": [
    "#Prepare a comprehensive report with your analysis, insights, and visualizations to assist meteorologists in making informed decisions and \n",
    "#   understanding the weather trends in the specified location\n",
    "\n",
    "import matplotlib.pyplot as plt"
   ]
  },
  {
   "cell_type": "code",
   "execution_count": 112,
   "id": "2b2ef3d2-d30e-41cb-8a1d-4e5c1485b6d8",
   "metadata": {},
   "outputs": [
    {
     "name": "stdout",
     "output_type": "stream",
     "text": [
      "Weather analysis report: july-1 to july-7\n"
     ]
    }
   ],
   "source": [
    "#weather analysis report\n",
    "print(\"Weather analysis report: july-1 to july-7\")"
   ]
  },
  {
   "cell_type": "code",
   "execution_count": 115,
   "id": "00af34b4-594d-4b54-a35c-7e3134604f89",
   "metadata": {},
   "outputs": [
    {
     "name": "stdout",
     "output_type": "stream",
     "text": [
      "Average temperature : 31.29\n"
     ]
    }
   ],
   "source": [
    "print(\"Average temperature :\",final_avg_temp)"
   ]
  },
  {
   "cell_type": "code",
   "execution_count": 116,
   "id": "8f0114f5-9473-4b4d-85e8-b82a3b122433",
   "metadata": {},
   "outputs": [
    {
     "name": "stdout",
     "output_type": "stream",
     "text": [
      "Hottest day : 2023-07-05\n"
     ]
    }
   ],
   "source": [
    "print(\"Hottest day :\",temp_day)"
   ]
  },
  {
   "cell_type": "code",
   "execution_count": 117,
   "id": "9f9e95d9-60b5-46fc-943b-8bdd965ed982",
   "metadata": {},
   "outputs": [
    {
     "name": "stdout",
     "output_type": "stream",
     "text": [
      "Highest temperature : 34.0\n"
     ]
    }
   ],
   "source": [
    "print(\"Highest temperature :\",temp_value)"
   ]
  },
  {
   "cell_type": "code",
   "execution_count": 119,
   "id": "d47b65b1-3238-4d02-a1b7-ac17e45f32da",
   "metadata": {},
   "outputs": [
    {
     "name": "stdout",
     "output_type": "stream",
     "text": [
      "Total precipitation : 1.2\n"
     ]
    }
   ],
   "source": [
    "print(\"Total precipitation :\",final_total_precipitation)"
   ]
  },
  {
   "cell_type": "code",
   "execution_count": 120,
   "id": "ddf262e4-05b1-4eed-84f5-9b9f561fc74d",
   "metadata": {},
   "outputs": [
    {
     "name": "stdout",
     "output_type": "stream",
     "text": [
      "Average Humidity : 69.0\n"
     ]
    }
   ],
   "source": [
    "print(\"Average Humidity :\",final_result)"
   ]
  },
  {
   "cell_type": "code",
   "execution_count": 130,
   "id": "7dcb35b4-42a6-4b40-92c7-e99fbc8c158d",
   "metadata": {},
   "outputs": [
    {
     "name": "stdout",
     "output_type": "stream",
     "text": [
      "Total summer days(>30) : 4\n"
     ]
    }
   ],
   "source": [
    "print(\"Total summer days(>30) :\" ,total_summerday)"
   ]
  },
  {
   "cell_type": "raw",
   "id": "1daf8508-95ea-456f-a2e1-327ae6075bb9",
   "metadata": {},
   "source": [
    "print(\"Dry days :\",day)"
   ]
  },
  {
   "cell_type": "code",
   "execution_count": 134,
   "id": "0c8450ec-594d-4565-9373-b357b74d9580",
   "metadata": {},
   "outputs": [
    {
     "name": "stdout",
     "output_type": "stream",
     "text": [
      "Dry days : 2\n"
     ]
    }
   ],
   "source": [
    "print(\"Dry days :\", days)"
   ]
  },
  {
   "cell_type": "code",
   "execution_count": 128,
   "id": "5fd6dff8-53c1-4404-86a5-078c77a3cef8",
   "metadata": {},
   "outputs": [
    {
     "data": {
      "image/png": "[encoded data removed]",
      "text/plain": [
       "<Figure size 1000x500 with 1 Axes>"
      ]
     },
     "metadata": {},
     "output_type": "display_data"
    }
   ],
   "source": [
    "# temperature over time\n",
    "plt.figure(figsize=(10,5))\n",
    "plt.plot(dates,temperature,color=\"red\")\n",
    "plt.xlabel(\"date\")\n",
    "plt.ylabel(\"temperature\")\n",
    "plt.title(\"temperature over time\")\n",
    "plt.show()"
   ]
  },
  {
   "cell_type": "code",
   "execution_count": 106,
   "id": "154e56b1-1142-4afe-a85c-c8e861b7e9ce",
   "metadata": {},
   "outputs": [
    {
     "data": {
      "text/plain": [
       "Text(0.5, 1.0, 'Daily precipitation')"
      ]
     },
     "execution_count": 106,
     "metadata": {},
     "output_type": "execute_result"
    },
    {
     "data": {
      "image/png": "[encoded data removed]",
      "text/plain": [
       "<Figure size 1000x500 with 1 Axes>"
      ]
     },
     "metadata": {},
     "output_type": "display_data"
    }
   ],
   "source": [
    "#precipation bar chart\n",
    "plt.figure(figsize=(10, 5))\n",
    "plt.bar(dates, precipitation, color='skyblue')\n",
    "plt.xlabel(\"dates\")\n",
    "plt.ylabel(\"precipitation\")\n",
    "plt.title(\"Daily precipitation\")"
   ]
  },
  {
   "cell_type": "code",
   "execution_count": null,
   "id": "416a3b14-a419-418a-b453-f7d63096578e",
   "metadata": {},
   "outputs": [
    {
     "data": {
      "image/png": "[encoded data removed]",
      "text/plain": [
       "<Figure size 1000x500 with 1 Axes>"
      ]
     },
     "metadata": {},
     "output_type": "display_data"
    }
   ],
   "source": [
    "#humidity line chart\n",
    "plt.figure(figsize=(10,5))\n",
    "plt.plot(dates, humidity.astype(float),color='green')\n",
    "plt.title(\"Daily Humidity Levels\")\n",
    "plt.xlabel(\"Date\")\n",
    "plt.ylabel(\"Humidity (%)\")\n",
    "plt.show()\n",
    "\n",
    "\n"
   ]
  },
  {
   "cell_type": "code",
   "execution_count": null,
   "id": "88e99508-421a-4f53-9e05-582ba7c58518",
   "metadata": {},
   "outputs": [],
   "source": []
  }
 ],
 "metadata": {
  "kernelspec": {
   "display_name": "Python 3 (ipykernel)",
   "language": "python",
   "name": "python3"
  },
  "language_info": {
   "codemirror_mode": {
    "name": "ipython",
    "version": 3
   },
   "file_extension": ".py",
   "mimetype": "text/x-python",
   "name": "python",
   "nbconvert_exporter": "python",
   "pygments_lexer": "ipython3",
   "version": "3.12.7"
  }
 },
 "nbformat": 4,
 "nbformat_minor": 5
}
