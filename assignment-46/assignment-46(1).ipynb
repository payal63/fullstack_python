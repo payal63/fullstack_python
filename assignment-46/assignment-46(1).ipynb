{
 "cells": [
  {
   "cell_type": "code",
   "execution_count": 10,
   "id": "4003a969-3b05-436a-b9d0-2cbe33faef74",
   "metadata": {},
   "outputs": [],
   "source": [
    "import pandas as pd"
   ]
  },
  {
   "cell_type": "code",
   "execution_count": 11,
   "id": "d80f5f75-7310-476e-80d5-5b4f7d81be47",
   "metadata": {},
   "outputs": [],
   "source": [
    "import numpy as np"
   ]
  },
  {
   "cell_type": "code",
   "execution_count": 12,
   "id": "2ccbf63f-5bd5-4369-9ab3-0a0c9748fec5",
   "metadata": {},
   "outputs": [],
   "source": [
    "import statistics"
   ]
  },
  {
   "cell_type": "code",
   "execution_count": 13,
   "id": "bdc563c9-183b-44ee-ae60-a0bd5d42a248",
   "metadata": {},
   "outputs": [],
   "source": [
    "product_a_sales= [235, 189, 340, 270, 305, 210, 320, 265, 315, 280, 250, 200]\n",
    "\n",
    "product_b_sales= [320, 190, 340, 270, 310, 260, 315, 290, 320, 275, 230, 320]\n",
    "\n",
    "product_c_sales= [270, 290, 280, 240, 260, 210, 200, 340, 295, 280, 260, 310] "
   ]
  },
  {
   "cell_type": "code",
   "execution_count": 6,
   "id": "4ee33867-2da0-4e98-8e1e-a9d53185d9b6",
   "metadata": {},
   "outputs": [
    {
     "data": {
      "text/plain": [
       "[235, 189, 340, 270, 305, 210, 320, 265, 315, 280, 250, 200]"
      ]
     },
     "execution_count": 6,
     "metadata": {},
     "output_type": "execute_result"
    }
   ],
   "source": [
    "product_a_sales"
   ]
  },
  {
   "cell_type": "code",
   "execution_count": 7,
   "id": "b375a1ff-a629-4f78-bfe1-2d11b7909b9c",
   "metadata": {},
   "outputs": [
    {
     "data": {
      "text/plain": [
       "[320, 190, 340, 270, 310, 260, 315, 290, 320, 275, 230, 320]"
      ]
     },
     "execution_count": 7,
     "metadata": {},
     "output_type": "execute_result"
    }
   ],
   "source": [
    "product_b_sales"
   ]
  },
  {
   "cell_type": "code",
   "execution_count": 14,
   "id": "dd57a4bc-8c70-406e-bb23-ca2e1e79e7ae",
   "metadata": {},
   "outputs": [
    {
     "data": {
      "text/plain": [
       "[270, 290, 280, 240, 260, 210, 200, 340, 295, 280, 260, 310]"
      ]
     },
     "execution_count": 14,
     "metadata": {},
     "output_type": "execute_result"
    }
   ],
   "source": [
    "product_c_sales"
   ]
  },
  {
   "cell_type": "code",
   "execution_count": 15,
   "id": "acb79a8f-32bd-41e8-a525-bfe4795c4ad9",
   "metadata": {},
   "outputs": [],
   "source": [
    "data=pd.DataFrame({'product_a_sales':[235, 189, 340, 270, 305, 210, 320, 265, 315, 280, 250, 200],\n",
    "\n",
    "'product_b_sales': [320, 190, 340, 270, 310, 260, 315, 290, 320, 275, 230, 320],\n",
    "\n",
    "'product_c_sales':[270, 290, 280, 240, 260, 210, 200, 340, 295, 280, 260, 310] })"
   ]
  },
  {
   "cell_type": "code",
   "execution_count": 16,
   "id": "2cdc0af6-6602-42ee-9150-da0e1a6a943f",
   "metadata": {},
   "outputs": [
    {
     "data": {
      "text/html": [
       "<div>\n",
       "<style scoped>\n",
       "    .dataframe tbody tr th:only-of-type {\n",
       "        vertical-align: middle;\n",
       "    }\n",
       "\n",
       "    .dataframe tbody tr th {\n",
       "        vertical-align: top;\n",
       "    }\n",
       "\n",
       "    .dataframe thead th {\n",
       "        text-align: right;\n",
       "    }\n",
       "</style>\n",
       "<table border=\"1\" class=\"dataframe\">\n",
       "  <thead>\n",
       "    <tr style=\"text-align: right;\">\n",
       "      <th></th>\n",
       "      <th>product_a_sales</th>\n",
       "      <th>product_b_sales</th>\n",
       "      <th>product_c_sales</th>\n",
       "    </tr>\n",
       "  </thead>\n",
       "  <tbody>\n",
       "    <tr>\n",
       "      <th>0</th>\n",
       "      <td>235</td>\n",
       "      <td>320</td>\n",
       "      <td>270</td>\n",
       "    </tr>\n",
       "    <tr>\n",
       "      <th>1</th>\n",
       "      <td>189</td>\n",
       "      <td>190</td>\n",
       "      <td>290</td>\n",
       "    </tr>\n",
       "    <tr>\n",
       "      <th>2</th>\n",
       "      <td>340</td>\n",
       "      <td>340</td>\n",
       "      <td>280</td>\n",
       "    </tr>\n",
       "    <tr>\n",
       "      <th>3</th>\n",
       "      <td>270</td>\n",
       "      <td>270</td>\n",
       "      <td>240</td>\n",
       "    </tr>\n",
       "    <tr>\n",
       "      <th>4</th>\n",
       "      <td>305</td>\n",
       "      <td>310</td>\n",
       "      <td>260</td>\n",
       "    </tr>\n",
       "    <tr>\n",
       "      <th>5</th>\n",
       "      <td>210</td>\n",
       "      <td>260</td>\n",
       "      <td>210</td>\n",
       "    </tr>\n",
       "    <tr>\n",
       "      <th>6</th>\n",
       "      <td>320</td>\n",
       "      <td>315</td>\n",
       "      <td>200</td>\n",
       "    </tr>\n",
       "    <tr>\n",
       "      <th>7</th>\n",
       "      <td>265</td>\n",
       "      <td>290</td>\n",
       "      <td>340</td>\n",
       "    </tr>\n",
       "    <tr>\n",
       "      <th>8</th>\n",
       "      <td>315</td>\n",
       "      <td>320</td>\n",
       "      <td>295</td>\n",
       "    </tr>\n",
       "    <tr>\n",
       "      <th>9</th>\n",
       "      <td>280</td>\n",
       "      <td>275</td>\n",
       "      <td>280</td>\n",
       "    </tr>\n",
       "    <tr>\n",
       "      <th>10</th>\n",
       "      <td>250</td>\n",
       "      <td>230</td>\n",
       "      <td>260</td>\n",
       "    </tr>\n",
       "    <tr>\n",
       "      <th>11</th>\n",
       "      <td>200</td>\n",
       "      <td>320</td>\n",
       "      <td>310</td>\n",
       "    </tr>\n",
       "  </tbody>\n",
       "</table>\n",
       "</div>"
      ],
      "text/plain": [
       "    product_a_sales  product_b_sales  product_c_sales\n",
       "0               235              320              270\n",
       "1               189              190              290\n",
       "2               340              340              280\n",
       "3               270              270              240\n",
       "4               305              310              260\n",
       "5               210              260              210\n",
       "6               320              315              200\n",
       "7               265              290              340\n",
       "8               315              320              295\n",
       "9               280              275              280\n",
       "10              250              230              260\n",
       "11              200              320              310"
      ]
     },
     "execution_count": 16,
     "metadata": {},
     "output_type": "execute_result"
    }
   ],
   "source": [
    "data"
   ]
  },
  {
   "cell_type": "code",
   "execution_count": 17,
   "id": "27a95326-1078-4139-acf7-ac56dad02c35",
   "metadata": {},
   "outputs": [
    {
     "data": {
      "text/plain": [
       "product_a_sales    3179\n",
       "product_b_sales    3440\n",
       "product_c_sales    3235\n",
       "dtype: int64"
      ]
     },
     "execution_count": 17,
     "metadata": {},
     "output_type": "execute_result"
    }
   ],
   "source": [
    "#Calculate the total sales during the period covered by the dataset:\n",
    "total_sale=data[['product_a_sales','product_b_sales','product_c_sales']].sum()\n",
    "total_sale"
   ]
  },
  {
   "cell_type": "code",
   "execution_count": 41,
   "id": "7b6a8ce3-2be4-453d-a1aa-2aadf3706763",
   "metadata": {},
   "outputs": [
    {
     "name": "stdout",
     "output_type": "stream",
     "text": [
      "Total sale is : 9854\n"
     ]
    }
   ],
   "source": [
    "# all product total sale\n",
    "total_sale1=data[['product_a_sales','product_b_sales','product_c_sales']].sum().sum()\n",
    "total_sale1\n",
    "print(f\"Total sale is : {total_sale1}\")"
   ]
  },
  {
   "cell_type": "code",
   "execution_count": 63,
   "id": "6ecadf78-338f-43bc-bcac-cc26cc9ea08b",
   "metadata": {
    "scrolled": true
   },
   "outputs": [
    {
     "name": "stdout",
     "output_type": "stream",
     "text": [
      " Average daily sale is : 821.17\n"
     ]
    }
   ],
   "source": [
    "#Find the average daily sales during this period: \n",
    "daily_sale=data[['product_a_sales','product_b_sales','product_c_sales']].sum(axis=1)\n",
    "daily_sale\n",
    "daily_average=daily_sale.mean()\n",
    "daily_average=round(daily_average,2)\n",
    "print(f\" Average daily sale is : {daily_average}\")"
   ]
  },
  {
   "cell_type": "code",
   "execution_count": 43,
   "id": "b781c665-fce2-4609-9161-367e81f455aa",
   "metadata": {},
   "outputs": [
    {
     "name": "stdout",
     "output_type": "stream",
     "text": [
      " best selling product is product_b_sales and total sale is 3440\n"
     ]
    }
   ],
   "source": [
    "#Identify the best-selling product (highest sales) and its corresponding sales value:\n",
    "total_sale=data.sum()\n",
    "total_sale\n",
    "max_sale=total_sale.max()\n",
    "max_sale\n",
    "best_selling_product=total_sale.idxmax()\n",
    "best_selling_product\n",
    "print(f\" best selling product is {best_selling_product} and total sale is {max_sale}\")"
   ]
  },
  {
   "cell_type": "code",
   "execution_count": 39,
   "id": "aae72837-4292-4fd0-8717-9e6c33807663",
   "metadata": {},
   "outputs": [
    {
     "data": {
      "text/plain": [
       "'product_a_sales'"
      ]
     },
     "execution_count": 39,
     "metadata": {},
     "output_type": "execute_result"
    }
   ],
   "source": [
    "max_sale=data.max().max()\n",
    "max_sale\n",
    "data.max()\n",
    "best=data.max().idxmax()\n",
    "best"
   ]
  },
  {
   "cell_type": "code",
   "execution_count": 51,
   "id": "7bacab00-0629-4941-89b0-3ddd700062e8",
   "metadata": {},
   "outputs": [
    {
     "name": "stdout",
     "output_type": "stream",
     "text": [
      "worst-selling product is product_a_sales and total sale is 3179\n"
     ]
    }
   ],
   "source": [
    "#Determine the worst-selling product (lowest sales) and its corresponding sales value\n",
    "total_sale\n",
    "min_sale=total_sale.min()\n",
    "min_sale\n",
    "worst_selling_product=total_sale.idxmin()\n",
    "worst_selling_product\n",
    "print(f'worst-selling product is {worst_selling_product} and total sale is {min_sale}')"
   ]
  },
  {
   "cell_type": "code",
   "execution_count": 90,
   "id": "7a55fbe3-7e5e-4a16-9d4d-0dc7cbc686cd",
   "metadata": {},
   "outputs": [
    {
     "name": "stdout",
     "output_type": "stream",
     "text": [
      " product A range is : 151\n",
      "product B range is : 150\n",
      "product C range is : 140\n"
     ]
    }
   ],
   "source": [
    "#Calculate the range of sales\n",
    "product_a_range=np.ptp(product_a_sales)\n",
    "product_b_range=np.ptp(product_b_sales)\n",
    "product_c_range=np.ptp(product_c_sales)\n",
    "print(f\" product A range is : {product_a_range}\")\n",
    "print(f\"product B range is : {product_b_range}\")\n",
    "print(f\"product C range is : {product_c_range}\")"
   ]
  },
  {
   "cell_type": "code",
   "execution_count": 134,
   "id": "b4d08eee-9b8a-49b7-b05b-4106fece84a2",
   "metadata": {},
   "outputs": [],
   "source": [
    "#Compute the standard deviation of sales: \n",
    "product_a_std=np.std(product_a_sales)\n",
    "product_a_std=round(product_a_std,2)\n",
    "product_b_std=np.std(product_b_sales)\n",
    "product_b_std=round(product_b_std,2)\n",
    "product_c_std=np.std(product_c_sales)\n",
    "product_c_std=round(product_c_std,2)\n"
   ]
  },
  {
   "cell_type": "code",
   "execution_count": 97,
   "id": "d54eeab3-2eb1-4de5-99e7-371bc86ee429",
   "metadata": {},
   "outputs": [
    {
     "name": "stdout",
     "output_type": "stream",
     "text": [
      " product a standard deviation is:47.57\n",
      " product b standard deviation is :42.05\n",
      " product c standard deviation is : 37.99\n"
     ]
    }
   ],
   "source": [
    "print(f\" product a standard deviation is:{product_a_std}\")\n",
    "print(f\" product b standard deviation is :{product_b_std}\")\n",
    "print(f\" product c standard deviation is : {product_c_std}\")"
   ]
  },
  {
   "cell_type": "code",
   "execution_count": 105,
   "id": "33b98231-ad8d-4e5c-9fc8-155355185004",
   "metadata": {},
   "outputs": [
    {
     "name": "stdout",
     "output_type": "stream",
     "text": [
      "264.9166666666667\n",
      "286.6666666666667\n",
      "269.5833333333333\n"
     ]
    }
   ],
   "source": [
    "#mean\n",
    "avg_producta=statistics.mean(product_a_sales)\n",
    "avg_productb=statistics.mean(product_b_sales)\n",
    "avg_productc=statistics.mean(product_c_sales)\n",
    "print(avg_producta)\n",
    "print(avg_productb)\n",
    "print(avg_productc)"
   ]
  },
  {
   "cell_type": "code",
   "execution_count": 128,
   "id": "8b30d723-11be-42b2-90f9-2dcf6662efe5",
   "metadata": {},
   "outputs": [
    {
     "name": "stdout",
     "output_type": "stream",
     "text": [
      "product A sale skewness is -0.07034632034632035 ,it is negative skewed\n"
     ]
    }
   ],
   "source": [
    "#Identify if the sales data is positively or negatively skewed\n",
    "from statsmodels.stats.stattools import medcouple, robust_kurtosis\n",
    "skewness=medcouple(product_a_sales)\n",
    "skewness\n",
    "print(f\"product A sale skewness is {skewness} ,it is negative skewed\")"
   ]
  },
  {
   "cell_type": "code",
   "execution_count": 129,
   "id": "f2852238-0dcb-4870-bf1f-ccf6f8b2d2a2",
   "metadata": {},
   "outputs": [
    {
     "name": "stdout",
     "output_type": "stream",
     "text": [
      "product B sale skewness is -0.3333333333333333 ,it is negative skewed\n"
     ]
    }
   ],
   "source": [
    "skewness=medcouple(product_b_sales)\n",
    "skewness\n",
    "print(f\"product B sale skewness is {skewness} ,it is negative skewed\")"
   ]
  },
  {
   "cell_type": "code",
   "execution_count": 130,
   "id": "2c40367c-e7e4-41c7-9503-2f89d684328d",
   "metadata": {},
   "outputs": [
    {
     "name": "stdout",
     "output_type": "stream",
     "text": [
      "product C sale skewness is -0.17207792207792205 ,it is negative skewed\n"
     ]
    }
   ],
   "source": [
    "skewness=medcouple(product_c_sales)\n",
    "skewness\n",
    "print(f\"product C sale skewness is {skewness} ,it is negative skewed\")"
   ]
  },
  {
   "cell_type": "code",
   "execution_count": 131,
   "id": "e3469cd0-86cd-4e8b-adf3-d1526c3ff373",
   "metadata": {},
   "outputs": [],
   "source": [
    "\n",
    "product_a_sales=np.array(product_a_sales)\n"
   ]
  },
  {
   "cell_type": "code",
   "execution_count": 132,
   "id": "f3a9c01a-9eab-4004-a0f3-4640ca6a4425",
   "metadata": {},
   "outputs": [],
   "source": [
    "product_b_sales=np.array(product_b_sales)\n",
    "product_c_sales=np.array(product_c_sales)"
   ]
  },
  {
   "cell_type": "code",
   "execution_count": 137,
   "id": "f00860b3-b4c0-4e29-a39f-34a501e199ca",
   "metadata": {},
   "outputs": [
    {
     "name": "stdout",
     "output_type": "stream",
     "text": [
      "product A coefficient of variation is : 17.956590122680087\n"
     ]
    }
   ],
   "source": [
    "#Calculate the coefficient of variation:\n",
    "product_a_coefficient=(product_a_std/avg_producta)*100\n",
    "print(f\"product A coefficient of variation is : {product_a_coefficient}\")"
   ]
  },
  {
   "cell_type": "code",
   "execution_count": 139,
   "id": "f6e2fe27-9c56-459f-ba91-50c04465fb13",
   "metadata": {},
   "outputs": [
    {
     "name": "stdout",
     "output_type": "stream",
     "text": [
      "product B coefficient of variation is : 14.66860465116279\n"
     ]
    }
   ],
   "source": [
    "product_b_coefficient=(product_b_std/avg_productb)*100\n",
    "print(f\"product B coefficient of variation is : {product_b_coefficient}\")"
   ]
  },
  {
   "cell_type": "code",
   "execution_count": 140,
   "id": "5d996c13-05ed-417c-ab27-d9d8fe1e9666",
   "metadata": {},
   "outputs": [
    {
     "name": "stdout",
     "output_type": "stream",
     "text": [
      "product C coefficient of variation is : 14.092117465224113\n"
     ]
    }
   ],
   "source": [
    "product_c_coefficient=(product_c_std/avg_productc)*100\n",
    "print(f\"product C coefficient of variation is : {product_c_coefficient}\")"
   ]
  },
  {
   "cell_type": "code",
   "execution_count": 144,
   "id": "204f6d77-aaaa-4f82-9642-fa48f8c67917",
   "metadata": {},
   "outputs": [
    {
     "name": "stdout",
     "output_type": "stream",
     "text": [
      "product_a_sale 25th percentile of sale is:[228.75]\n"
     ]
    }
   ],
   "source": [
    "#Determine the 25th percentile of sales: \n",
    "q1=np.percentile(product_a_sales,[25])\n",
    "q1\n",
    "print(f\"product_a_sale 25th percentile of sale is: {q1}\")"
   ]
  },
  {
   "cell_type": "code",
   "execution_count": 145,
   "id": "97902549-1e21-474f-902b-153db18cd971",
   "metadata": {},
   "outputs": [
    {
     "name": "stdout",
     "output_type": "stream",
     "text": [
      "product_b_sale 25th percentile of sale is: [267.5]\n"
     ]
    }
   ],
   "source": [
    "q1=np.percentile(product_b_sales,[25])\n",
    "q1\n",
    "print(f\"product_b_sale 25th percentile of sale is: {q1}\")"
   ]
  },
  {
   "cell_type": "code",
   "execution_count": 146,
   "id": "9c912a95-7efe-48bc-8f6f-277d7ce1cac9",
   "metadata": {},
   "outputs": [
    {
     "name": "stdout",
     "output_type": "stream",
     "text": [
      "product_c_sale 25th percentile of sale is: [255.]\n"
     ]
    }
   ],
   "source": [
    "q1=np.percentile(product_c_sales,[25])\n",
    "q1\n",
    "print(f\"product_c_sale 25th percentile of sale is: {q1}\")"
   ]
  },
  {
   "cell_type": "code",
   "execution_count": 149,
   "id": "fc6944b9-c803-4aa7-9ac6-c3fdde5751f0",
   "metadata": {},
   "outputs": [
    {
     "name": "stdout",
     "output_type": "stream",
     "text": [
      "product a iqr is : 78.75\n"
     ]
    }
   ],
   "source": [
    "#Compute the interquartile range (IQR): \n",
    "#for product_a\n",
    "q3,q1=np.percentile(product_a_sales,[75,25])\n",
    "iqr=q3-q1\n",
    "print(f\"product a iqr is : {iqr}\")"
   ]
  },
  {
   "cell_type": "code",
   "execution_count": 151,
   "id": "320ec4c7-fa77-4213-966a-086c116318af",
   "metadata": {},
   "outputs": [
    {
     "name": "stdout",
     "output_type": "stream",
     "text": [
      "product b iqr is : 52.5\n"
     ]
    }
   ],
   "source": [
    "#for product_b\n",
    "q3,q1=np.percentile(product_b_sales,[75,25])\n",
    "iqr=q3-q1\n",
    "print(f\"product b iqr is : {iqr}\")"
   ]
  },
  {
   "cell_type": "code",
   "execution_count": 152,
   "id": "c9d22d37-4371-4b7f-b26f-eb74c9c74926",
   "metadata": {},
   "outputs": [
    {
     "name": "stdout",
     "output_type": "stream",
     "text": [
      "product c iqr is : 36.25\n"
     ]
    }
   ],
   "source": [
    "#for product_c\n",
    "q3,q1=np.percentile(product_c_sales,[75,25])\n",
    "iqr=q3-q1\n",
    "print(f\"product c iqr is : {iqr}\")"
   ]
  },
  {
   "cell_type": "code",
   "execution_count": null,
   "id": "b940db67-6c7c-4798-97ea-dd05b8a51325",
   "metadata": {},
   "outputs": [],
   "source": []
  }
 ],
 "metadata": {
  "kernelspec": {
   "display_name": "Python 3 (ipykernel)",
   "language": "python",
   "name": "python3"
  },
  "language_info": {
   "codemirror_mode": {
    "name": "ipython",
    "version": 3
   },
   "file_extension": ".py",
   "mimetype": "text/x-python",
   "name": "python",
   "nbconvert_exporter": "python",
   "pygments_lexer": "ipython3",
   "version": "3.12.7"
  }
 },
 "nbformat": 4,
 "nbformat_minor": 5
}
